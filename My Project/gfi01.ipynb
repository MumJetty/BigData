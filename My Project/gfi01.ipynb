{
 "cells": [
  {
   "attachments": {},
   "cell_type": "markdown",
   "metadata": {},
   "source": [
    "## Mo.1-1"
   ]
  },
  {
   "cell_type": "code",
   "execution_count": 3,
   "metadata": {},
   "outputs": [],
   "source": [
    "import pandas as pd\n",
    "exam1=pd.read_csv(r'C:\\빅데이터분석기사 실기 모의고사\\data\\모의고사\\01회\\iris.csv')"
   ]
  },
  {
   "cell_type": "code",
   "execution_count": 4,
   "metadata": {},
   "outputs": [],
   "source": [
    "# sepal_width 별도 저장 \n",
    "sepal_width=exam1['Sepal.Width']"
   ]
  },
  {
   "cell_type": "code",
   "execution_count": 5,
   "metadata": {},
   "outputs": [],
   "source": [
    "# -> sepal_width 평균 기준 3배 표준편차 이상 떨어진 데이터 추출 \n",
    "# sepal_width의 평균 | sepal_width의 표준편차 \n",
    "avg=sepal_width.mean()\n",
    "sd=sepal_width.std()"
   ]
  },
  {
   "cell_type": "code",
   "execution_count": 6,
   "metadata": {},
   "outputs": [],
   "source": [
    "# 상한과 하한 (3배 표준편차 기준)\n",
    "upp=avg+3*sd\n",
    "low=avg-3*sd"
   ]
  },
  {
   "cell_type": "code",
   "execution_count": 7,
   "metadata": {},
   "outputs": [],
   "source": [
    "# -> sepal_width 평균 기준 3배 표준편차 이상 벗어날 조건\n",
    "# 하한 보다 작고 상한 보다 큼 \n",
    "cond=(sepal_width<low)|(sepal_width>upp)"
   ]
  },
  {
   "cell_type": "code",
   "execution_count": 8,
   "metadata": {},
   "outputs": [],
   "source": [
    "# 결과를 result에 할당 \n",
    "# 떨어진 값들의 합 \n",
    "result=sepal_width[cond].sum()"
   ]
  },
  {
   "cell_type": "code",
   "execution_count": 9,
   "metadata": {},
   "outputs": [
    {
     "name": "stdout",
     "output_type": "stream",
     "text": [
      "4.4\n"
     ]
    }
   ],
   "source": [
    "# 결과 출력 \n",
    "print(result)"
   ]
  },
  {
   "cell_type": "code",
   "execution_count": 11,
   "metadata": {},
   "outputs": [
    {
     "name": "stdout",
     "output_type": "stream",
     "text": [
      "<class 'pandas.core.series.Series'>\n",
      "RangeIndex: 150 entries, 0 to 149\n",
      "Series name: Sepal.Width\n",
      "Non-Null Count  Dtype  \n",
      "--------------  -----  \n",
      "150 non-null    float64\n",
      "dtypes: float64(1)\n",
      "memory usage: 1.3 KB\n",
      "None\n"
     ]
    }
   ],
   "source": [
    "# 데이터셋 요약 정보 확인 \n",
    "print(sepal_width.info())"
   ]
  },
  {
   "cell_type": "code",
   "execution_count": 12,
   "metadata": {},
   "outputs": [
    {
     "name": "stdout",
     "output_type": "stream",
     "text": [
      "count    150.000000\n",
      "mean       3.057333\n",
      "std        0.435866\n",
      "min        2.000000\n",
      "25%        2.800000\n",
      "50%        3.000000\n",
      "75%        3.300000\n",
      "max        4.400000\n",
      "Name: Sepal.Width, dtype: float64\n"
     ]
    }
   ],
   "source": [
    "# 기초통계량 확인 \n",
    "print(sepal_width.describe())"
   ]
  },
  {
   "cell_type": "code",
   "execution_count": 14,
   "metadata": {},
   "outputs": [
    {
     "name": "stdout",
     "output_type": "stream",
     "text": [
      "<class 'pandas.core.frame.DataFrame'>\n",
      "RangeIndex: 150 entries, 0 to 149\n",
      "Data columns (total 5 columns):\n",
      " #   Column        Non-Null Count  Dtype  \n",
      "---  ------        --------------  -----  \n",
      " 0   Sepal.Length  150 non-null    float64\n",
      " 1   Sepal.Width   150 non-null    float64\n",
      " 2   Petal.Length  150 non-null    float64\n",
      " 3   Petal.Width   150 non-null    float64\n",
      " 4   Species       150 non-null    object \n",
      "dtypes: float64(4), object(1)\n",
      "memory usage: 6.0+ KB\n",
      "None\n"
     ]
    }
   ],
   "source": [
    "# 데이터셋 요약 정보 확인 \n",
    "print(exam1.info())"
   ]
  },
  {
   "cell_type": "code",
   "execution_count": 15,
   "metadata": {},
   "outputs": [
    {
     "name": "stdout",
     "output_type": "stream",
     "text": [
      "       Sepal.Length  Sepal.Width  Petal.Length  Petal.Width\n",
      "count    150.000000   150.000000    150.000000   150.000000\n",
      "mean       5.843333     3.057333      3.758000     1.199333\n",
      "std        0.828066     0.435866      1.765298     0.762238\n",
      "min        4.300000     2.000000      1.000000     0.100000\n",
      "25%        5.100000     2.800000      1.600000     0.300000\n",
      "50%        5.800000     3.000000      4.350000     1.300000\n",
      "75%        6.400000     3.300000      5.100000     1.800000\n",
      "max        7.900000     4.400000      6.900000     2.500000\n"
     ]
    }
   ],
   "source": [
    "# 기초통계량 확인 \n",
    "print(exam1.describe())"
   ]
  },
  {
   "attachments": {},
   "cell_type": "markdown",
   "metadata": {},
   "source": [
    "## Mo. 1-2"
   ]
  },
  {
   "cell_type": "code",
   "execution_count": 10,
   "metadata": {},
   "outputs": [],
   "source": [
    "import pandas as pd\n",
    "exam2=pd.read_csv(r'C:\\빅데이터분석기사 실기 모의고사\\data\\모의고사\\01회\\mtcars1.csv')"
   ]
  },
  {
   "cell_type": "code",
   "execution_count": 13,
   "metadata": {},
   "outputs": [],
   "source": [
    "# disp 컬럼 별도 저장 \n",
    "disp=exam2['disp']"
   ]
  },
  {
   "cell_type": "code",
   "execution_count": 16,
   "metadata": {},
   "outputs": [
    {
     "name": "stdout",
     "output_type": "stream",
     "text": [
      "<class 'pandas.core.frame.DataFrame'>\n",
      "RangeIndex: 32 entries, 0 to 31\n",
      "Data columns (total 11 columns):\n",
      " #   Column  Non-Null Count  Dtype  \n",
      "---  ------  --------------  -----  \n",
      " 0   mpg     32 non-null     float64\n",
      " 1   cyl     32 non-null     int64  \n",
      " 2   disp    32 non-null     float64\n",
      " 3   hp      32 non-null     int64  \n",
      " 4   drat    32 non-null     float64\n",
      " 5   wt      32 non-null     float64\n",
      " 6   qsec    32 non-null     float64\n",
      " 7   vs      32 non-null     int64  \n",
      " 8   am      32 non-null     int64  \n",
      " 9   gear    32 non-null     int64  \n",
      " 10  carb    32 non-null     int64  \n",
      "dtypes: float64(5), int64(6)\n",
      "memory usage: 2.9 KB\n",
      "None\n"
     ]
    }
   ],
   "source": [
    "# 데이터셋 요약 정보 확인 \n",
    "print(exam2.info())"
   ]
  },
  {
   "cell_type": "code",
   "execution_count": 17,
   "metadata": {},
   "outputs": [
    {
     "name": "stdout",
     "output_type": "stream",
     "text": [
      "             mpg        cyl        disp          hp       drat         wt  \\\n",
      "count  32.000000  32.000000   32.000000   32.000000  32.000000  32.000000   \n",
      "mean   20.090625   6.187500  230.721875  146.687500   3.596563   3.217250   \n",
      "std     6.026948   1.785922  123.938694   68.562868   0.534679   0.978457   \n",
      "min    10.400000   4.000000   71.100000   52.000000   2.760000   1.513000   \n",
      "25%    15.425000   4.000000  120.825000   96.500000   3.080000   2.581250   \n",
      "50%    19.200000   6.000000  196.300000  123.000000   3.695000   3.325000   \n",
      "75%    22.800000   8.000000  326.000000  180.000000   3.920000   3.610000   \n",
      "max    33.900000   8.000000  472.000000  335.000000   4.930000   5.424000   \n",
      "\n",
      "            qsec         vs         am       gear     carb  \n",
      "count  32.000000  32.000000  32.000000  32.000000  32.0000  \n",
      "mean   17.848750   0.437500   0.406250   3.687500   2.8125  \n",
      "std     1.786943   0.504016   0.498991   0.737804   1.6152  \n",
      "min    14.500000   0.000000   0.000000   3.000000   1.0000  \n",
      "25%    16.892500   0.000000   0.000000   3.000000   2.0000  \n",
      "50%    17.710000   0.000000   0.000000   4.000000   2.0000  \n",
      "75%    18.900000   1.000000   1.000000   4.000000   4.0000  \n",
      "max    22.900000   1.000000   1.000000   5.000000   8.0000  \n"
     ]
    }
   ],
   "source": [
    "# 기초통계량 확인 \n",
    "print(exam2.describe())"
   ]
  },
  {
   "cell_type": "code",
   "execution_count": 18,
   "metadata": {},
   "outputs": [],
   "source": [
    "# disp 순위 부여\n",
    "rank=disp.rank(method='min', ascending=False)"
   ]
  },
  {
   "cell_type": "code",
   "execution_count": 19,
   "metadata": {},
   "outputs": [],
   "source": [
    "# 1위부터 20위까지 값\n",
    "rank20=disp[rank<=20]"
   ]
  },
  {
   "cell_type": "code",
   "execution_count": 20,
   "metadata": {},
   "outputs": [],
   "source": [
    "# 결과를 result에 할당 \n",
    "# 반올림 소수점 셋째자리에서(둘째자리까지 남기고), 표준편차 구하기 \n",
    "result=round(rank20.std(),2)"
   ]
  },
  {
   "cell_type": "code",
   "execution_count": 21,
   "metadata": {},
   "outputs": [
    {
     "name": "stdout",
     "output_type": "stream",
     "text": [
      "97.47\n"
     ]
    }
   ],
   "source": [
    "# 결과 출력 \n",
    "print(result)"
   ]
  },
  {
   "attachments": {},
   "cell_type": "markdown",
   "metadata": {},
   "source": [
    "## Mo. 1-3"
   ]
  },
  {
   "cell_type": "code",
   "execution_count": 22,
   "metadata": {},
   "outputs": [],
   "source": [
    "import pandas as pd\n",
    "exam3=pd.read_csv(r'C:\\빅데이터분석기사 실기 모의고사\\data\\모의고사\\01회\\Cars93.csv')"
   ]
  },
  {
   "cell_type": "code",
   "execution_count": 23,
   "metadata": {},
   "outputs": [
    {
     "name": "stdout",
     "output_type": "stream",
     "text": [
      "<class 'pandas.core.frame.DataFrame'>\n",
      "RangeIndex: 93 entries, 0 to 92\n",
      "Data columns (total 28 columns):\n",
      " #   Column              Non-Null Count  Dtype  \n",
      "---  ------              --------------  -----  \n",
      " 0   Manufacturer        93 non-null     object \n",
      " 1   Model               93 non-null     object \n",
      " 2   Type                93 non-null     object \n",
      " 3   Min_Price           93 non-null     float64\n",
      " 4   Price               84 non-null     float64\n",
      " 5   Max_Price           93 non-null     float64\n",
      " 6   MPG_city            93 non-null     int64  \n",
      " 7   MPG_highway         93 non-null     int64  \n",
      " 8   AirBags             93 non-null     object \n",
      " 9   DriveTrain          93 non-null     object \n",
      " 10  Cylinders           93 non-null     object \n",
      " 11  EngineSize          93 non-null     float64\n",
      " 12  Horsepower          93 non-null     int64  \n",
      " 13  RPM                 89 non-null     float64\n",
      " 14  Rev_per_mile        93 non-null     int64  \n",
      " 15  Man_trans_avail     93 non-null     object \n",
      " 16  Fuel_tank_capacity  93 non-null     float64\n",
      " 17  Passengers          93 non-null     int64  \n",
      " 18  Length              93 non-null     int64  \n",
      " 19  Wheelbase           93 non-null     int64  \n",
      " 20  Width               93 non-null     int64  \n",
      " 21  Turn_circle         80 non-null     float64\n",
      " 22  Rear_seat_room      91 non-null     float64\n",
      " 23  Luggage_room        82 non-null     float64\n",
      " 24  Weight              93 non-null     int64  \n",
      " 25  Origin              93 non-null     object \n",
      " 26  Unnamed: 26         93 non-null     int64  \n",
      " 27  Make                93 non-null     object \n",
      "dtypes: float64(9), int64(10), object(9)\n",
      "memory usage: 20.5+ KB\n",
      "None\n"
     ]
    }
   ],
   "source": [
    "# 데이터셋 요약 정보 확인 \n",
    "print(exam3.info())"
   ]
  },
  {
   "cell_type": "code",
   "execution_count": 24,
   "metadata": {},
   "outputs": [
    {
     "name": "stdout",
     "output_type": "stream",
     "text": [
      "       Min_Price      Price  Max_Price   MPG_city  MPG_highway  EngineSize  \\\n",
      "count  93.000000  84.000000  93.000000  93.000000    93.000000   93.000000   \n",
      "mean   17.125806  19.047619  21.898925  22.365591    29.086022    2.667742   \n",
      "std     8.746029   9.696608  11.030457   5.619812     5.331726    1.037363   \n",
      "min     6.700000   7.400000   7.900000  15.000000    20.000000    1.000000   \n",
      "25%    10.800000  12.025000  14.700000  18.000000    26.000000    1.800000   \n",
      "50%    14.700000  16.550000  19.600000  21.000000    28.000000    2.400000   \n",
      "75%    20.300000  21.800000  25.300000  25.000000    31.000000    3.300000   \n",
      "max    45.400000  61.900000  80.000000  46.000000    50.000000    5.700000   \n",
      "\n",
      "       Horsepower          RPM  Rev_per_mile  Fuel_tank_capacity  Passengers  \\\n",
      "count   93.000000    89.000000     93.000000           93.000000   93.000000   \n",
      "mean   143.827957  5277.528090   2341.408602           16.664516    5.086022   \n",
      "std     52.374410   602.928989    598.459676            3.279370    1.038979   \n",
      "min     55.000000  3800.000000    825.000000            9.200000    2.000000   \n",
      "25%    103.000000  4800.000000   1980.000000           14.500000    4.000000   \n",
      "50%    140.000000  5200.000000   2340.000000           16.400000    5.000000   \n",
      "75%    170.000000  5750.000000   2595.000000           18.800000    6.000000   \n",
      "max    300.000000  6500.000000   4305.000000           27.000000    8.000000   \n",
      "\n",
      "           Length   Wheelbase      Width  Turn_circle  Rear_seat_room  \\\n",
      "count   93.000000   93.000000  93.000000     80.00000       91.000000   \n",
      "mean   183.204301  103.989247  69.376344     39.10000       27.829670   \n",
      "std     14.602382    7.389026   3.778986      3.29787        2.989072   \n",
      "min    141.000000   85.000000  60.000000     32.00000       19.000000   \n",
      "25%    174.000000   98.000000  67.000000     37.00000       26.000000   \n",
      "50%    183.000000  103.000000  69.000000     39.00000       27.500000   \n",
      "75%    192.000000  110.000000  72.000000     42.00000       30.000000   \n",
      "max    219.000000  124.000000  78.000000     45.00000       36.000000   \n",
      "\n",
      "       Luggage_room       Weight  Unnamed: 26  \n",
      "count     82.000000    93.000000    93.000000  \n",
      "mean      13.890244  3081.505376    46.000000  \n",
      "std        2.997967   704.756104    26.990739  \n",
      "min        6.000000   713.000000     0.000000  \n",
      "25%       12.000000  2620.000000    23.000000  \n",
      "50%       14.000000  3040.000000    46.000000  \n",
      "75%       15.000000  3560.000000    69.000000  \n",
      "max       22.000000  6022.000000    92.000000  \n"
     ]
    }
   ],
   "source": [
    "# 기초통계량 확인 \n",
    "print(exam3.describe())"
   ]
  },
  {
   "cell_type": "code",
   "execution_count": 25,
   "metadata": {},
   "outputs": [],
   "source": [
    "# case1. | 전체 레코드 수 \n",
    "case1=exam3.shape[0]"
   ]
  },
  {
   "cell_type": "code",
   "execution_count": 26,
   "metadata": {},
   "outputs": [
    {
     "name": "stdout",
     "output_type": "stream",
     "text": [
      "93\n",
      "28\n"
     ]
    }
   ],
   "source": [
    "# 행 수(셰입0) | 열 수(셰입1) \n",
    "print(exam3.shape[0])\n",
    "print(exam3.shape[1])"
   ]
  },
  {
   "cell_type": "code",
   "execution_count": 27,
   "metadata": {},
   "outputs": [],
   "source": [
    "### case2. | -> 결측치가 있는 컬럼의 수 \n",
    "# ; 결측치 조회 및 합 했을 때(이즈앤애이&썸), 0이 아닌 것의 합(썸)\n",
    "case2=sum(exam3.isna().sum() !=0)"
   ]
  },
  {
   "cell_type": "code",
   "execution_count": 28,
   "metadata": {},
   "outputs": [],
   "source": [
    "# case3. | 전체 결측치 수 , 썸의썸 \n",
    "case3=sum(exam3.isna().sum())"
   ]
  },
  {
   "cell_type": "code",
   "execution_count": 29,
   "metadata": {},
   "outputs": [],
   "source": [
    "# case4. 결측치가 10개 이상인 컬럼들의, 결측치가 있는 레코드만 삭제한 후의, 전체 레코드 수\n",
    "# 결측치 수가 10개 이상인 컬럼명을 colnm_10over에 할당 | ; 쩜 컬럼이 있음  \n",
    "colnm_10over=exam3.columns[exam3.isna().sum()>10]"
   ]
  },
  {
   "cell_type": "code",
   "execution_count": 30,
   "metadata": {},
   "outputs": [],
   "source": [
    "#그 중에서 결측치가 없는 경우의 전체 레코드 수 \n",
    "# ; 카피는 사본 생성 | 결측치 row 삭제 후 행수 세기 \n",
    "# ; sub1 안에가 컬럼10오버고, 컬럼10오버 안에가 컬럼확인한 것이므로, len으로 레코드수 확인 가능 \n",
    "sub1=exam3[colnm_10over].copy()\n",
    "case4=len(sub1.dropna())"
   ]
  },
  {
   "cell_type": "code",
   "execution_count": 31,
   "metadata": {},
   "outputs": [],
   "source": [
    "### case5. | 두개 이상의 컬럼이 동시에 결측인 레코드의 행 번호들의 합 \n",
    "# -> 결측치의 수가 2개 이상인 행 인덱스를 rownm_2over에 할당 \n",
    "# (; 인덱스는 리스트 중 특정 원소 몇번째 | axis=1은 컬럼 drop 시 | 결측 컬럼이 2개 이상인 행을 지정하는 것 )\n",
    "rownm_2over=exam3.index[exam3.isna().sum(axis=1) >=2]"
   ]
  },
  {
   "cell_type": "code",
   "execution_count": 32,
   "metadata": {},
   "outputs": [],
   "source": [
    "# 행 번호를 리스트로 반환한 수 합함 \n",
    "sub2=list(rownm_2over)\n",
    "case5=sum(sub2)"
   ]
  },
  {
   "cell_type": "code",
   "execution_count": 33,
   "metadata": {},
   "outputs": [
    {
     "data": {
      "text/plain": [
       "407"
      ]
     },
     "execution_count": 33,
     "metadata": {},
     "output_type": "execute_result"
    }
   ],
   "source": [
    "case5"
   ]
  },
  {
   "cell_type": "code",
   "execution_count": 34,
   "metadata": {},
   "outputs": [
    {
     "data": {
      "text/plain": [
       "[3, 4, 15, 18, 39, 55, 56, 65, 69, 83]"
      ]
     },
     "execution_count": 34,
     "metadata": {},
     "output_type": "execute_result"
    }
   ],
   "source": [
    "sub2"
   ]
  },
  {
   "cell_type": "code",
   "execution_count": 35,
   "metadata": {},
   "outputs": [],
   "source": [
    "# 결과를 result에 할당 \n",
    "result=case1+case2+case3+case4+case5"
   ]
  },
  {
   "cell_type": "code",
   "execution_count": 36,
   "metadata": {},
   "outputs": [
    {
     "name": "stdout",
     "output_type": "stream",
     "text": [
      "614\n"
     ]
    }
   ],
   "source": [
    "# 결과 출력 \n",
    "print(result)"
   ]
  },
  {
   "attachments": {},
   "cell_type": "markdown",
   "metadata": {},
   "source": [
    "## Mo. 2-1"
   ]
  },
  {
   "cell_type": "code",
   "execution_count": null,
   "metadata": {},
   "outputs": [],
   "source": [
    "# [ 타이타닉 ]\n",
    "# Step1. | 데이터셋 불러오기 \n",
    "\n",
    "import pandas as pd \n",
    "X_train = pd.read_csv(r'C:\\빅데이터분석기사 실기 모의고사\\data\\모의고사\\01회\\titanic3_X_train.csv') \n",
    "X_test = pd.read_csv(r'C:\\빅데이터분석기사 실기 모의고사\\data\\모의고사\\01회\\titanic3_X_test.csv')\n",
    "y_train = pd.read_csv(r'C:\\빅데이터분석기사 실기 모의고사\\data\\모의고사\\01회\\titanic3_y_train.csv') "
   ]
  }
 ],
 "metadata": {
  "kernelspec": {
   "display_name": "base",
   "language": "python",
   "name": "python3"
  },
  "language_info": {
   "codemirror_mode": {
    "name": "ipython",
    "version": 3
   },
   "file_extension": ".py",
   "mimetype": "text/x-python",
   "name": "python",
   "nbconvert_exporter": "python",
   "pygments_lexer": "ipython3",
   "version": "3.9.13"
  },
  "orig_nbformat": 4,
  "vscode": {
   "interpreter": {
    "hash": "9bf15b9dd490fd4628809ac77023ed1d989990ba58b472ec013d0bafd3a285da"
   }
  }
 },
 "nbformat": 4,
 "nbformat_minor": 2
}
