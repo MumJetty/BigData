{
 "cells": [
  {
   "cell_type": "markdown",
   "metadata": {},
   "source": [
    "# PART 01) 파이썬 기초"
   ]
  },
  {
   "cell_type": "markdown",
   "metadata": {},
   "source": [
    "## 1장. 파이썬 기초"
   ]
  },
  {
   "cell_type": "markdown",
   "metadata": {},
   "source": [
    "### 1절. 파이썬 다루기"
   ]
  },
  {
   "cell_type": "markdown",
   "metadata": {},
   "source": [
    "코드 없음"
   ]
  },
  {
   "cell_type": "markdown",
   "metadata": {},
   "source": []
  },
  {
   "cell_type": "markdown",
   "metadata": {},
   "source": [
    "### 2절. 파이썬 기초 중의 기초"
   ]
  },
  {
   "cell_type": "markdown",
   "metadata": {},
   "source": [
    "#### 1. 변수(variables)"
   ]
  },
  {
   "cell_type": "code",
   "execution_count": null,
   "metadata": {},
   "outputs": [],
   "source": [
    "name = 'Jane' # name 변수에 Jane 이라는 문자 할당\n",
    "number = 1 # number 변수에 숫자 1 할당"
   ]
  },
  {
   "cell_type": "markdown",
   "metadata": {},
   "source": [
    "#### 2. 변수명 규칙"
   ]
  },
  {
   "cell_type": "markdown",
   "metadata": {},
   "source": [
    "코드 없음"
   ]
  },
  {
   "cell_type": "markdown",
   "metadata": {},
   "source": [
    "#### 3. 메소드(methods)"
   ]
  },
  {
   "cell_type": "markdown",
   "metadata": {},
   "source": [
    "코드 없음"
   ]
  },
  {
   "cell_type": "markdown",
   "metadata": {},
   "source": [
    "#### 4. 기초 연산자"
   ]
  },
  {
   "cell_type": "markdown",
   "metadata": {},
   "source": [
    "##### 가. 산술 연산자(Arithmetic operator)"
   ]
  },
  {
   "cell_type": "code",
   "execution_count": null,
   "metadata": {},
   "outputs": [
    {
     "data": {
      "text/plain": [
       "10"
      ]
     },
     "metadata": {},
     "output_type": "display_data"
    }
   ],
   "source": [
    "7 + 3 # 더하기"
   ]
  },
  {
   "cell_type": "code",
   "execution_count": null,
   "metadata": {},
   "outputs": [
    {
     "data": {
      "text/plain": [
       "4"
      ]
     },
     "metadata": {},
     "output_type": "display_data"
    }
   ],
   "source": [
    "7 - 3 # 빼기"
   ]
  },
  {
   "cell_type": "code",
   "execution_count": null,
   "metadata": {},
   "outputs": [
    {
     "data": {
      "text/plain": [
       "21"
      ]
     },
     "metadata": {},
     "output_type": "display_data"
    }
   ],
   "source": [
    "7 * 3 # 곱하기"
   ]
  },
  {
   "cell_type": "code",
   "execution_count": null,
   "metadata": {},
   "outputs": [
    {
     "data": {
      "text/plain": [
       "2.3333333333333335"
      ]
     },
     "metadata": {},
     "output_type": "display_data"
    }
   ],
   "source": [
    "7 / 3 # 나누기"
   ]
  },
  {
   "cell_type": "code",
   "execution_count": null,
   "metadata": {},
   "outputs": [
    {
     "data": {
      "text/plain": [
       "1"
      ]
     },
     "metadata": {},
     "output_type": "display_data"
    }
   ],
   "source": [
    "7 % 3 # 나머지"
   ]
  },
  {
   "cell_type": "code",
   "execution_count": null,
   "metadata": {},
   "outputs": [
    {
     "data": {
      "text/plain": [
       "2"
      ]
     },
     "metadata": {},
     "output_type": "display_data"
    }
   ],
   "source": [
    "7 // 3 # 몫"
   ]
  },
  {
   "cell_type": "code",
   "execution_count": null,
   "metadata": {},
   "outputs": [
    {
     "data": {
      "text/plain": [
       "343"
      ]
     },
     "metadata": {},
     "output_type": "display_data"
    }
   ],
   "source": [
    "7 ** 3 # 제곱"
   ]
  },
  {
   "cell_type": "markdown",
   "metadata": {},
   "source": [
    "##### 나. 할당 연산자(Assignment operator)"
   ]
  },
  {
   "cell_type": "code",
   "execution_count": null,
   "metadata": {},
   "outputs": [
    {
     "data": {
      "text/plain": [
       "7"
      ]
     },
     "metadata": {},
     "output_type": "display_data"
    }
   ],
   "source": [
    "a = 7 # a에 7 할당\n",
    "a"
   ]
  },
  {
   "cell_type": "code",
   "execution_count": null,
   "metadata": {},
   "outputs": [
    {
     "data": {
      "text/plain": [
       "10"
      ]
     },
     "metadata": {},
     "output_type": "display_data"
    }
   ],
   "source": [
    "a = 7 # a에 7 할당\n",
    "a += 3 # a에 할당된 7에 3을 더한 값을 재할당(a = a + 3과 같음)\n",
    "a"
   ]
  },
  {
   "cell_type": "code",
   "execution_count": null,
   "metadata": {},
   "outputs": [
    {
     "data": {
      "text/plain": [
       "4"
      ]
     },
     "metadata": {},
     "output_type": "display_data"
    }
   ],
   "source": [
    "a = 7 # a에 7 할당\n",
    "a -= 3 # a에 할당된 7에 3을 뺀 값을 재할당(a = a - 3과 같음)\n",
    "a"
   ]
  },
  {
   "cell_type": "code",
   "execution_count": null,
   "metadata": {},
   "outputs": [
    {
     "data": {
      "text/plain": [
       "21"
      ]
     },
     "metadata": {},
     "output_type": "display_data"
    }
   ],
   "source": [
    "a = 7 # a에 7 할당\n",
    "a *= 3 # a에 할당된 7에 3을 곱한 값을 재할당(a = a * 3과 같음)\n",
    "a"
   ]
  },
  {
   "cell_type": "code",
   "execution_count": null,
   "metadata": {},
   "outputs": [
    {
     "data": {
      "text/plain": [
       "2.3333333333333335"
      ]
     },
     "metadata": {},
     "output_type": "display_data"
    }
   ],
   "source": [
    "a = 7 # a에 7 할당\n",
    "a /= 3 # a에 할당된 7에 3을 나눈 후 나눈 값을 재할당(a = a / 3과 같음)\n",
    "a"
   ]
  },
  {
   "cell_type": "code",
   "execution_count": null,
   "metadata": {},
   "outputs": [
    {
     "data": {
      "text/plain": [
       "2"
      ]
     },
     "metadata": {},
     "output_type": "display_data"
    }
   ],
   "source": [
    "a = 7 # a에 7 할당\n",
    "a //= 3 # a에 할당된 7에 3을 나눈 후 몫을 재할당(a = a // 3과 같음)\n",
    "a"
   ]
  },
  {
   "cell_type": "code",
   "execution_count": null,
   "metadata": {},
   "outputs": [
    {
     "data": {
      "text/plain": [
       "1"
      ]
     },
     "metadata": {},
     "output_type": "display_data"
    }
   ],
   "source": [
    "a = 7 # a에 7 할당\n",
    "a %= 3 # a에 할당된 7에 3을 나눈 후 나머지를 재할당(a = a % 3과 같음)\n",
    "a"
   ]
  },
  {
   "cell_type": "code",
   "execution_count": null,
   "metadata": {},
   "outputs": [
    {
     "data": {
      "text/plain": [
       "343"
      ]
     },
     "metadata": {},
     "output_type": "display_data"
    }
   ],
   "source": [
    "a = 7 # a에 7 할당\n",
    "a **= 3 # a에 할당된 7에 3 제곱한 값을 재할당(a = a ** 3과 같음)\n",
    "a"
   ]
  },
  {
   "cell_type": "markdown",
   "metadata": {},
   "source": [
    "##### 다. 비교 연산자(Comparison operator)"
   ]
  },
  {
   "cell_type": "code",
   "execution_count": null,
   "metadata": {},
   "outputs": [],
   "source": [
    "a = 7; b = 3 # a와 b에 각각 7과 3을 할당"
   ]
  },
  {
   "cell_type": "code",
   "execution_count": null,
   "metadata": {},
   "outputs": [
    {
     "data": {
      "text/plain": [
       "False"
      ]
     },
     "metadata": {},
     "output_type": "display_data"
    }
   ],
   "source": [
    "a == b # a와 b가 같은 지에 대한 여부"
   ]
  },
  {
   "cell_type": "code",
   "execution_count": null,
   "metadata": {},
   "outputs": [
    {
     "data": {
      "text/plain": [
       "True"
      ]
     },
     "metadata": {},
     "output_type": "display_data"
    }
   ],
   "source": [
    "a != b # a와 b가 다른 지에 대한 여부"
   ]
  },
  {
   "cell_type": "code",
   "execution_count": null,
   "metadata": {},
   "outputs": [
    {
     "data": {
      "text/plain": [
       "True"
      ]
     },
     "metadata": {},
     "output_type": "display_data"
    }
   ],
   "source": [
    "a > b # a가 b보다 큰 지에 대한 여부"
   ]
  },
  {
   "cell_type": "code",
   "execution_count": null,
   "metadata": {},
   "outputs": [
    {
     "data": {
      "text/plain": [
       "False"
      ]
     },
     "metadata": {},
     "output_type": "display_data"
    }
   ],
   "source": [
    "a < b # a가 b보다 작은 지에 대한 여부"
   ]
  },
  {
   "cell_type": "code",
   "execution_count": null,
   "metadata": {},
   "outputs": [
    {
     "data": {
      "text/plain": [
       "True"
      ]
     },
     "metadata": {},
     "output_type": "display_data"
    }
   ],
   "source": [
    "a >= b # a가 b보다 크거나 같은 지에 대한 여부"
   ]
  },
  {
   "cell_type": "code",
   "execution_count": null,
   "metadata": {},
   "outputs": [
    {
     "data": {
      "text/plain": [
       "False"
      ]
     },
     "metadata": {},
     "output_type": "display_data"
    }
   ],
   "source": [
    "a <= b # a가 b보다 작거나 같은 지에 대한 여부"
   ]
  },
  {
   "cell_type": "markdown",
   "metadata": {},
   "source": [
    "##### 라. 논리 연산자(Logical operatror)"
   ]
  },
  {
   "cell_type": "code",
   "execution_count": null,
   "metadata": {},
   "outputs": [],
   "source": [
    "a = 7; b = 3; c = 5; d = 1 # 할당"
   ]
  },
  {
   "cell_type": "code",
   "execution_count": null,
   "metadata": {},
   "outputs": [],
   "source": [
    "# a > b (True)이고 c < d (False)"
   ]
  },
  {
   "cell_type": "code",
   "execution_count": null,
   "metadata": {},
   "outputs": [
    {
     "data": {
      "text/plain": [
       "False"
      ]
     },
     "metadata": {},
     "output_type": "display_data"
    }
   ],
   "source": [
    "# 모두 참(True)이면 참(True)을 반환\n",
    "(a > b) and (c < d)"
   ]
  },
  {
   "cell_type": "code",
   "execution_count": null,
   "metadata": {},
   "outputs": [
    {
     "data": {
      "text/plain": [
       "True"
      ]
     },
     "metadata": {},
     "output_type": "display_data"
    }
   ],
   "source": [
    "# 하나라도 참(True)이면 참(True)을 반환\n",
    "(a > b) or (c < d)"
   ]
  },
  {
   "cell_type": "code",
   "execution_count": null,
   "metadata": {},
   "outputs": [
    {
     "data": {
      "text/plain": [
       "False"
      ]
     },
     "metadata": {},
     "output_type": "display_data"
    }
   ],
   "source": [
    "# 참(True)이면 거짓(False)을 반환\n",
    "not(a > b)"
   ]
  },
  {
   "cell_type": "code",
   "execution_count": null,
   "metadata": {},
   "outputs": [
    {
     "data": {
      "text/plain": [
       "True"
      ]
     },
     "metadata": {},
     "output_type": "display_data"
    }
   ],
   "source": [
    "# 거짓(False)이면 참(True)을 반환\n",
    "not(c < d)"
   ]
  },
  {
   "cell_type": "markdown",
   "metadata": {},
   "source": [
    "##### 마. 기타연산자"
   ]
  },
  {
   "cell_type": "markdown",
   "metadata": {},
   "source": [
    "코드 없음"
   ]
  },
  {
   "cell_type": "markdown",
   "metadata": {},
   "source": [
    "##### 바. 연산자 우선순위"
   ]
  },
  {
   "cell_type": "markdown",
   "metadata": {},
   "source": [
    "코드 없음"
   ]
  },
  {
   "cell_type": "markdown",
   "metadata": {},
   "source": []
  },
  {
   "cell_type": "markdown",
   "metadata": {},
   "source": [
    "### 3절. 데이터 타입"
   ]
  },
  {
   "cell_type": "markdown",
   "metadata": {},
   "source": [
    "#### 1. 숫자형(Number)"
   ]
  },
  {
   "cell_type": "code",
   "execution_count": null,
   "metadata": {},
   "outputs": [
    {
     "name": "stdout",
     "output_type": "stream",
     "text": [
      "1\n",
      "2.7\n"
     ]
    }
   ],
   "source": [
    "# a에 정수 1 할당\n",
    "a = 1\n",
    "print(a)\n",
    "\n",
    "# b에 실수 2.7 할당\n",
    "b = 2.7 \n",
    "print(b)"
   ]
  },
  {
   "cell_type": "markdown",
   "metadata": {},
   "source": [
    "#### 2. 시퀀스형(Sequence)"
   ]
  },
  {
   "cell_type": "markdown",
   "metadata": {},
   "source": [
    "##### 가. 문자열(String)"
   ]
  },
  {
   "cell_type": "code",
   "execution_count": null,
   "metadata": {},
   "outputs": [
    {
     "name": "stdout",
     "output_type": "stream",
     "text": [
      "BigData, A.I Technology Expert Group\n",
      "BigData, A.I Technology Expert Group\n",
      "BigData, A.I Technology Expert Group\n",
      "BigData, A.I Technology Expert Group\n",
      "BigData,\n",
      "A.I Technology Expert Group\n",
      "BigData,\n",
      "A.I Technology Expert Group\n",
      "BigData, 'A.I Technology Expert Group'\n",
      "BigData, \"A.I Technology Expert Group\"\n"
     ]
    }
   ],
   "source": [
    "# 방법1. 큰 따옴표(\"\")로 둘러싸기\n",
    "dataedu_1 = \"BigData, A.I Technology Expert Group\"\n",
    "print(dataedu_1)\n",
    "\n",
    "# 방법2. 작은 따옴표('')로 둘러싸기\n",
    "dataedu_2 = 'BigData, A.I Technology Expert Group'\n",
    "print(dataedu_2)\n",
    "\n",
    "# 방법3. 큰 따옴표 연속 3개로 둘러싸기\n",
    "dataedu_3 = \"\"\"BigData, A.I Technology Expert Group\"\"\"\n",
    "print(dataedu_3)\n",
    "\n",
    "# 방법4. 작은 따옴표 연속 3개로 둘러싸기\n",
    "dataedu_4 = '''BigData, A.I Technology Expert Group'''\n",
    "print(dataedu_4)\n",
    "\n",
    "# (참고) 작은 따옴표 연속 3개로 둘러싸는 방법은 줄바꿈까지 허용함\n",
    "dataedu_5 = '''BigData,\n",
    "A.I Technology Expert Group'''\n",
    "print(dataedu_5)\n",
    "\n",
    "# (참고) 큰 따옴표 연속 3개로 둘러싸는 방법은 줄바꿈까지 허용함\n",
    "dataedu_6 = \"\"\"BigData,\n",
    "A.I Technology Expert Group\"\"\"\n",
    "print(dataedu_6)\n",
    "\n",
    "# (참고) ''를 포함하는 문자열은 \"\"로 둘러싸는 방법으로 입력이 가능함\n",
    "dataedu_7 = \"BigData, 'A.I Technology Expert Group'\"\n",
    "print(dataedu_7) # 결과 출력\n",
    "\n",
    "# (참고) \"\"를 포함하는 문자열은 ''로 둘러싸는 방법으로 입력이 가능함\n",
    "dataedu_8 = 'BigData, \"A.I Technology Expert Group\"'\n",
    "print(dataedu_8) # 결과 출력"
   ]
  },
  {
   "cell_type": "markdown",
   "metadata": {},
   "source": [
    "##### 나. 리스트(List)"
   ]
  },
  {
   "cell_type": "code",
   "execution_count": null,
   "metadata": {},
   "outputs": [
    {
     "name": "stdout",
     "output_type": "stream",
     "text": [
      "[1, 2, 3, 4]\n",
      "['D', 'a', 'T', 'a', 'E', 'd', 'u']\n",
      "[1, 2, 3, 'E', 'd', 'u']\n"
     ]
    }
   ],
   "source": [
    "# 리스트 생성(숫자일 경우)\n",
    "list_1 = [1, 2, 3, 4]\n",
    "print(list_1)\n",
    "\n",
    "# 리스트 생성(문자일 경우)\n",
    "list_2 = ['D','a','T','a','E','d','u']\n",
    "print(list_2)\n",
    "\n",
    "# 리스트 생성(숫자+문자일 경우) \n",
    "list_3 = [1, 2, 3, 'E','d','u']\n",
    "print(list_3)\n",
    "\n",
    "# 빈 리스트 생성 (대괄호 이용)\n",
    "list_4 = []\n",
    "\n",
    "# 빈 리스트 생성 (list() 함수 이용)\n",
    "list_5 = list() # list() 함수로 빈 리스트 생성"
   ]
  },
  {
   "cell_type": "markdown",
   "metadata": {},
   "source": [
    "##### 다. 튜플(Tuple)"
   ]
  },
  {
   "cell_type": "code",
   "execution_count": null,
   "metadata": {},
   "outputs": [
    {
     "name": "stdout",
     "output_type": "stream",
     "text": [
      "(1, 2, 3, 4)\n",
      "('D', 'a', 'T', 'a', 'E', 'd', 'u')\n",
      "(1, 2, 3, 'E', 'd', 'u')\n"
     ]
    }
   ],
   "source": [
    "# 튜플 생성(숫자일 경우)\n",
    "tuple_1 = (1, 2, 3, 4)\n",
    "print(tuple_1)\n",
    "\n",
    "# 튜플 생성(문자일 경우)\n",
    "tuple_2 = ('D','a','T','a','E','d','u')\n",
    "print(tuple_2)\n",
    "\n",
    "# 튜플 생성(숫자+문자일 경우) \n",
    "tuple_3 = (1, 2, 3, 'E','d','u')\n",
    "print(tuple_3)\n",
    "\n",
    "# 소괄호로 빈 튜플 생성\n",
    "tuple_4 = ()\n",
    "\n",
    "# tuple() 함수로 빈 튜플 생성\n",
    "tuple_5 = tuple()"
   ]
  },
  {
   "cell_type": "code",
   "execution_count": null,
   "metadata": {},
   "outputs": [
    {
     "name": "stdout",
     "output_type": "stream",
     "text": [
      "[[1, 2, 3, 4], ['D', 'a', 'T', 'a', 'E', 'd', 'u']]\n",
      "[(1, 2, 3, 4), ('D', 'a', 'T', 'a', 'E', 'd', 'u')]\n",
      "[[1, 2, 3, 4], ('D', 'a', 'T', 'a', 'E', 'd', 'u')]\n",
      "((1, 2, 3, 4), ('D', 'a', 'T', 'a', 'E', 'd', 'u'))\n",
      "([1, 2, 3, 4], ['D', 'a', 'T', 'a', 'E', 'd', 'u'])\n",
      "([1, 2, 3, 4], ('D', 'a', 'T', 'a', 'E', 'd', 'u'))\n"
     ]
    }
   ],
   "source": [
    "# 리스트 생성(리스트일 경우)\n",
    "list_4 = [list_1, list_2]\n",
    "print(list_4)\n",
    "\n",
    "# 리스트 생성(튜플일 경우)\n",
    "list_5 = [tuple_1, tuple_2]\n",
    "print(list_5)\n",
    "\n",
    "# 리스트 생성(리스트 + 튜플일 경우)\n",
    "list_6 = [list_1, tuple_2]\n",
    "print(list_6)\n",
    "\n",
    "# 튜플 생성(튜플일 경우)\n",
    "tuple_4 = (tuple_1, tuple_2)\n",
    "print(tuple_4)\n",
    "\n",
    "# 튜플 생성(리스트일 경우)\n",
    "tuple_5 = (list_1, list_2)\n",
    "print(tuple_5)\n",
    "\n",
    "# 튜플 생성(리스트 + 튜플일 경우)\n",
    "tuple_6 = (list_1, tuple_2)\n",
    "print(tuple_6)"
   ]
  },
  {
   "cell_type": "markdown",
   "metadata": {},
   "source": [
    "##### 라. range"
   ]
  },
  {
   "cell_type": "code",
   "execution_count": null,
   "metadata": {},
   "outputs": [],
   "source": [
    "# range(start, end, step)\n",
    "# 0에서 9까지 1 간격으로 증가(즉 0 ~ 9 생성)\n",
    "range_1 = range(0, 10) \n",
    "range_2 = range(10) \n",
    "\n",
    "# step을 음수로 지정할 경우 감소\n",
    "# 10에서 1까지 1 간격으로 감소(즉 10 ~ 1 생성)\n",
    "range_3 = range(10, 0, -1)\n",
    "\n",
    "# 빈 range 형태\n",
    "range_4 = range(0)"
   ]
  },
  {
   "cell_type": "code",
   "execution_count": null,
   "metadata": {},
   "outputs": [
    {
     "name": "stdout",
     "output_type": "stream",
     "text": [
      "[0, 2, 4, 6, 8]\n",
      "[2, 5, 8, 11, 14]\n",
      "[15, 13, 11, 9, 7, 5]\n"
     ]
    }
   ],
   "source": [
    "# 예시1 : 0에서 시작해 2 간격으로 증가하고 10을 포함하지 않는 숫자열\n",
    "# 즉 0, 2, 4, 6, 8 생성\n",
    "range_5 = range(0, 10, 2)\n",
    "print(list(range_5)) # 리스트로 변환하여 출력\n",
    "\n",
    "# 예시2 : 2에서 시작해 3 간격으로 증가하고 17을 포함하지 않는 숫자열\n",
    "# 즉 2, 5, 8, 11, 14 생성\n",
    "range_6 = range(2, 17, 3) \n",
    "print(list(range_6)) # 리스트로 변환하여 출력\n",
    "\n",
    "# 예시3 : 15에서 시작해 2 간격으로 감소하고 3을 포함하지 않는 숫자열\n",
    "# 즉 15, 13, 11, 9, 7, 5 생성\n",
    "range_7 = range(15, 3, -2)\n",
    "print(list(range_7)) # 리스트로 변환하여 출력"
   ]
  },
  {
   "cell_type": "markdown",
   "metadata": {},
   "source": [
    "##### 마. 시퀀스형 연산"
   ]
  },
  {
   "cell_type": "markdown",
   "metadata": {},
   "source": [
    "###### 1) 인덱싱"
   ]
  },
  {
   "cell_type": "code",
   "execution_count": null,
   "metadata": {},
   "outputs": [
    {
     "name": "stdout",
     "output_type": "stream",
     "text": [
      "D\n",
      "!\n",
      "y\n",
      "y\n"
     ]
    }
   ],
   "source": [
    "# 시퀀스형(문자열, 리스트, 튜플, range) 연산\n",
    "String = 'DataEdu, Python!'\n",
    "List = [0, 1, 2, 3, 4, 5, 6, 7, 8, 9]\n",
    "Tuple = (0, 1, 2, 3, 4, 5, 6, 7, 8, 9)\n",
    "Range = range(0, 10)\n",
    "\n",
    "# 문자열 인덱싱\n",
    "print(String[0]) # 0번부터 시작, 제일 앞에서 한 글자\n",
    "print(String[-1]) # 뒤에서부터 시작, 제일 뒤에서 한 글자\n",
    "print(String[10]) # 앞에서부터 10번에서 한 글자 \n",
    "print(String[-6]) # 뒤에서부터 6번에서 한 글자 "
   ]
  },
  {
   "cell_type": "code",
   "execution_count": null,
   "metadata": {},
   "outputs": [
    {
     "name": "stdout",
     "output_type": "stream",
     "text": [
      "0\n",
      "9\n",
      "7\n",
      "8\n"
     ]
    }
   ],
   "source": [
    "# 리스트 인덱싱\n",
    "print(List[0]) # 0번부터 시작, 제일 앞에서 한 원소\n",
    "print(List[-1]) # 뒤에서부터 시작, 제일 뒤에서 한 원소\n",
    "print(List[7]) # 앞에서부터 7번에서 한 원소\n",
    "print(List[-2]) # 뒤에서부터 2번에서 한 원소"
   ]
  },
  {
   "cell_type": "code",
   "execution_count": null,
   "metadata": {},
   "outputs": [
    {
     "name": "stdout",
     "output_type": "stream",
     "text": [
      "0\n",
      "9\n",
      "7\n",
      "8\n"
     ]
    }
   ],
   "source": [
    "# 튜플 인덱싱\n",
    "print(Tuple[0]) # 0번부터 시작, 제일 앞에서 한 원소\n",
    "print(Tuple[-1]) # 뒤에서부터 시작, 제일 뒤에서 한 원소\n",
    "print(Tuple[7]) # 앞에서부터 7번에서 한 원소\n",
    "print(Tuple[-2]) # 뒤에서부터 2번에서 한 원소"
   ]
  },
  {
   "cell_type": "code",
   "execution_count": null,
   "metadata": {},
   "outputs": [
    {
     "name": "stdout",
     "output_type": "stream",
     "text": [
      "0\n",
      "9\n",
      "7\n",
      "8\n"
     ]
    }
   ],
   "source": [
    "# range 인덱싱\n",
    "print(Range[0]) # 0번부터 시작, 제일 앞에서 한 숫자\n",
    "print(Range[-1]) # 뒤에서부터 시작, 제일 뒤에서 한 숫자\n",
    "print(Range[7]) # 앞에서부터 7번에서 한 숫자\n",
    "print(Range[-2]) # 뒤에서부터 2번에서 한 숫자"
   ]
  },
  {
   "cell_type": "code",
   "execution_count": null,
   "metadata": {},
   "outputs": [
    {
     "name": "stdout",
     "output_type": "stream",
     "text": [
      "[-1, 1, 2, 3, 4, 5, 6, 7, 8, 100]\n"
     ]
    }
   ],
   "source": [
    "# 인덱싱을 통한 리스트의 특정 객체 수정\n",
    "List = [0, 1, 2, 3, 4, 5, 6, 7, 8, 9]\n",
    "\n",
    "# \"변수명[k] = 원하는값\"\n",
    "List[0] = -1 # 0을 –1로 교체\n",
    "List[-1] = 100 # 9를 100으로 교체\n",
    "print(List)"
   ]
  },
  {
   "cell_type": "code",
   "execution_count": null,
   "metadata": {},
   "outputs": [
    {
     "ename": "TypeError",
     "evalue": "'str' object does not support item assignment",
     "output_type": "error",
     "traceback": [
      "\u001b[1;31m---------------------------------------------------------------------------\u001b[0m\n",
      "\u001b[1;31mTypeError\u001b[0m                                 Traceback (most recent call last)\n",
      "Input \u001b[1;32mIn [42]\u001b[0m, in \u001b[0;36m<cell line: 3>\u001b[1;34m()\u001b[0m\n",
      "\u001b[0;32m      1\u001b[0m \u001b[38;5;66;03m# 인덱싱을 통한 문자열의 특정 객체 수정(불가능)\u001b[39;00m\n",
      "\u001b[0;32m      2\u001b[0m String \u001b[38;5;241m=\u001b[39m \u001b[38;5;124m'\u001b[39m\u001b[38;5;124mDataEdu, Python!\u001b[39m\u001b[38;5;124m'\u001b[39m\n",
      "\u001b[1;32m----> 3\u001b[0m String[\u001b[38;5;241m0\u001b[39m] \u001b[38;5;241m=\u001b[39m \u001b[38;5;124m'\u001b[39m\u001b[38;5;124md\u001b[39m\u001b[38;5;124m'\u001b[39m\n",
      "\n",
      "\u001b[1;31mTypeError\u001b[0m: 'str' object does not support item assignment"
     ]
    }
   ],
   "source": [
    "# 인덱싱을 통한 문자열의 특정 객체 수정(불가능)\n",
    "String = 'DataEdu, Python!'\n",
    "String[0] = 'd' # 'D'를 'd'로 교체"
   ]
  },
  {
   "cell_type": "code",
   "execution_count": null,
   "metadata": {},
   "outputs": [
    {
     "ename": "TypeError",
     "evalue": "'tuple' object does not support item assignment",
     "output_type": "error",
     "traceback": [
      "\u001b[1;31m---------------------------------------------------------------------------\u001b[0m\n",
      "\u001b[1;31mTypeError\u001b[0m                                 Traceback (most recent call last)\n",
      "Input \u001b[1;32mIn [43]\u001b[0m, in \u001b[0;36m<cell line: 3>\u001b[1;34m()\u001b[0m\n",
      "\u001b[0;32m      1\u001b[0m \u001b[38;5;66;03m# 인덱싱을 통한 튜플의 특정 객체 수정(불가능)\u001b[39;00m\n",
      "\u001b[0;32m      2\u001b[0m Tuple \u001b[38;5;241m=\u001b[39m (\u001b[38;5;241m0\u001b[39m, \u001b[38;5;241m1\u001b[39m, \u001b[38;5;241m2\u001b[39m, \u001b[38;5;241m3\u001b[39m, \u001b[38;5;241m4\u001b[39m, \u001b[38;5;241m5\u001b[39m, \u001b[38;5;241m6\u001b[39m, \u001b[38;5;241m7\u001b[39m, \u001b[38;5;241m8\u001b[39m, \u001b[38;5;241m9\u001b[39m)\n",
      "\u001b[1;32m----> 3\u001b[0m Tuple[\u001b[38;5;241m0\u001b[39m] \u001b[38;5;241m=\u001b[39m \u001b[38;5;241m-\u001b[39m\u001b[38;5;241m1\u001b[39m\n",
      "\n",
      "\u001b[1;31mTypeError\u001b[0m: 'tuple' object does not support item assignment"
     ]
    }
   ],
   "source": [
    "# 인덱싱을 통한 튜플의 특정 객체 수정(불가능)\n",
    "Tuple = (0, 1, 2, 3, 4, 5, 6, 7, 8, 9)\n",
    "Tuple[0] = -1 # 0을 –1로 교체"
   ]
  },
  {
   "cell_type": "code",
   "execution_count": null,
   "metadata": {},
   "outputs": [
    {
     "ename": "TypeError",
     "evalue": "'range' object does not support item assignment",
     "output_type": "error",
     "traceback": [
      "\u001b[1;31m---------------------------------------------------------------------------\u001b[0m\n",
      "\u001b[1;31mTypeError\u001b[0m                                 Traceback (most recent call last)\n",
      "Input \u001b[1;32mIn [190]\u001b[0m, in \u001b[0;36m<cell line: 3>\u001b[1;34m()\u001b[0m\n",
      "\u001b[0;32m      1\u001b[0m \u001b[38;5;66;03m# 인덱싱을 통한 range의 특정 객체 수정(불가능)\u001b[39;00m\n",
      "\u001b[0;32m      2\u001b[0m Range \u001b[38;5;241m=\u001b[39m \u001b[38;5;28mrange\u001b[39m(\u001b[38;5;241m0\u001b[39m, \u001b[38;5;241m10\u001b[39m)\n",
      "\u001b[1;32m----> 3\u001b[0m Range[\u001b[38;5;241m0\u001b[39m] \u001b[38;5;241m=\u001b[39m \u001b[38;5;241m-\u001b[39m\u001b[38;5;241m1\u001b[39m\n",
      "\n",
      "\u001b[1;31mTypeError\u001b[0m: 'range' object does not support item assignment"
     ]
    }
   ],
   "source": [
    "# 인덱싱을 통한 range의 특정 객체 수정(불가능)\n",
    "Range = range(0, 10)\n",
    "Range[0] = -1 # 0을 –1로 교체"
   ]
  },
  {
   "cell_type": "markdown",
   "metadata": {},
   "source": [
    "###### 2) 슬라이싱"
   ]
  },
  {
   "cell_type": "code",
   "execution_count": null,
   "metadata": {},
   "outputs": [
    {
     "name": "stdout",
     "output_type": "stream",
     "text": [
      "DataEdu\n",
      "DataEdu\n",
      "Python!\n",
      "Python!\n",
      "Edu\n"
     ]
    }
   ],
   "source": [
    "# 시퀀스형(문자열, 리스트, 튜플, range) 슬라이싱\n",
    "# 문자열 슬라이싱\n",
    "String = 'DataEdu, Python!'\n",
    "\n",
    "# 0번과 7번 사이의 객체를 추출함\n",
    "print(String[0:7])\n",
    "print(String[:7])\n",
    "\n",
    "# 9번과 16번 사이의 객체를 추출함\n",
    "print(String[9:])\n",
    "print(String[9:16])\n",
    "\n",
    "# 4번과 7번 사이의 객체를 추출함\n",
    "print(String[4:7])"
   ]
  },
  {
   "cell_type": "code",
   "execution_count": null,
   "metadata": {},
   "outputs": [
    {
     "name": "stdout",
     "output_type": "stream",
     "text": [
      "[0, 1]\n",
      "[0, 1]\n",
      "[6, 7, 8, 9]\n",
      "[6, 7, 8, 9]\n",
      "[3, 4, 5, 6]\n"
     ]
    }
   ],
   "source": [
    "# 리스트 슬라이싱\n",
    "List = [0, 1, 2, 3, 4, 5, 6, 7, 8, 9]\n",
    "\n",
    "# 0번과 2번 사이의 객체를 추출함\n",
    "print(List[0:2])\n",
    "print(List[:2])\n",
    "\n",
    "# 6번과 10번 사이의 객체를 추출함\n",
    "print(List[6:])\n",
    "print(List[6:10])\n",
    "\n",
    "# 3번과 7번 사이의 객체를 추출함\n",
    "print(List[3:7])"
   ]
  },
  {
   "cell_type": "code",
   "execution_count": null,
   "metadata": {},
   "outputs": [
    {
     "name": "stdout",
     "output_type": "stream",
     "text": [
      "(0, 1)\n",
      "(0, 1)\n",
      "(6, 7, 8, 9)\n",
      "(6, 7, 8, 9)\n",
      "(3, 4, 5, 6)\n"
     ]
    }
   ],
   "source": [
    "# 튜플 슬라이싱\n",
    "Tuple = (0, 1, 2, 3, 4, 5, 6, 7, 8, 9)\n",
    "\n",
    "# 0번과 2번 사이의 객체를 추출함\n",
    "print(Tuple[0:2])\n",
    "print(Tuple[:2])\n",
    "\n",
    "# 6번과 10번 사이의 객체를 추출함\n",
    "print(Tuple[6:])\n",
    "print(Tuple[6:10])\n",
    "\n",
    "# 3번과 7번 사이의 객체를 추출함\n",
    "print(Tuple[3:7])"
   ]
  },
  {
   "cell_type": "code",
   "execution_count": null,
   "metadata": {},
   "outputs": [
    {
     "name": "stdout",
     "output_type": "stream",
     "text": [
      "range(0, 2)\n",
      "range(0, 2)\n",
      "range(6, 10)\n",
      "range(6, 10)\n",
      "range(3, 7)\n"
     ]
    }
   ],
   "source": [
    "# range 슬라이싱\n",
    "Range = range(0, 10)\n",
    "# 0번과 2번 사이의 객체를 추출함\n",
    "print(Range[0:2])\n",
    "print(Range[:2])\n",
    "\n",
    "# 6번과 10번 사이의 객체를 추출함\n",
    "print(Range[6:])\n",
    "print(Range[6:10])\n",
    "\n",
    "# 3번과 7번 사이의 객체를 추출함\n",
    "print(Range[3:7])"
   ]
  },
  {
   "cell_type": "markdown",
   "metadata": {},
   "source": [
    "###### 3) 연결"
   ]
  },
  {
   "cell_type": "code",
   "execution_count": null,
   "metadata": {},
   "outputs": [
    {
     "data": {
      "text/plain": [
       "'DataEdu'"
      ]
     },
     "metadata": {},
     "output_type": "display_data"
    }
   ],
   "source": [
    "# 문자열 연결\n",
    "'Data' + 'Edu'"
   ]
  },
  {
   "cell_type": "code",
   "execution_count": null,
   "metadata": {},
   "outputs": [
    {
     "data": {
      "text/plain": [
       "[1, 2, 3, 4, 5, 6]"
      ]
     },
     "metadata": {},
     "output_type": "display_data"
    }
   ],
   "source": [
    "# 리스트 연결\n",
    "[1, 2, 3] + [4, 5, 6]"
   ]
  },
  {
   "cell_type": "code",
   "execution_count": null,
   "metadata": {},
   "outputs": [
    {
     "data": {
      "text/plain": [
       "(1, 2, 3, 4, 5, 6)"
      ]
     },
     "metadata": {},
     "output_type": "display_data"
    }
   ],
   "source": [
    "# 튜플 연결\n",
    "(1, 2, 3) + (4, 5, 6)"
   ]
  },
  {
   "cell_type": "markdown",
   "metadata": {},
   "source": [
    "###### 4)  반복"
   ]
  },
  {
   "cell_type": "code",
   "execution_count": null,
   "metadata": {},
   "outputs": [
    {
     "data": {
      "text/plain": [
       "'DataDataData'"
      ]
     },
     "metadata": {},
     "output_type": "display_data"
    }
   ],
   "source": [
    "# 문자열 반복\n",
    "'Data' * 3"
   ]
  },
  {
   "cell_type": "code",
   "execution_count": null,
   "metadata": {},
   "outputs": [
    {
     "data": {
      "text/plain": [
       "[1, 2, 3, 1, 2, 3, 1, 2, 3]"
      ]
     },
     "metadata": {},
     "output_type": "display_data"
    }
   ],
   "source": [
    "# 리스트 반복\n",
    "[1, 2, 3] * 3"
   ]
  },
  {
   "cell_type": "code",
   "execution_count": null,
   "metadata": {},
   "outputs": [
    {
     "data": {
      "text/plain": [
       "(1, 2, 3, 1, 2, 3, 1, 2, 3)"
      ]
     },
     "metadata": {},
     "output_type": "display_data"
    }
   ],
   "source": [
    "# 튜플 반복\n",
    "(1, 2, 3) * 3"
   ]
  },
  {
   "cell_type": "markdown",
   "metadata": {},
   "source": [
    "###### 5) 길이 정보"
   ]
  },
  {
   "cell_type": "code",
   "execution_count": null,
   "metadata": {},
   "outputs": [
    {
     "data": {
      "text/plain": [
       "16"
      ]
     },
     "metadata": {},
     "output_type": "display_data"
    }
   ],
   "source": [
    "# 문자열 길이정보\n",
    "String = 'DataEdu, Python!'\n",
    "len(String)"
   ]
  },
  {
   "cell_type": "code",
   "execution_count": null,
   "metadata": {},
   "outputs": [
    {
     "data": {
      "text/plain": [
       "10"
      ]
     },
     "metadata": {},
     "output_type": "display_data"
    }
   ],
   "source": [
    "# 리스트 길이정보\n",
    "List = [0, 1, 2, 3, 4, 5, 6, 7, 8, 9]\n",
    "len(List)"
   ]
  },
  {
   "cell_type": "code",
   "execution_count": null,
   "metadata": {},
   "outputs": [
    {
     "data": {
      "text/plain": [
       "10"
      ]
     },
     "metadata": {},
     "output_type": "display_data"
    }
   ],
   "source": [
    "# 튜플 길이정보\n",
    "Tuple = (0, 1, 2, 3, 4, 5, 6, 7, 8, 9)\n",
    "len(Tuple)"
   ]
  },
  {
   "cell_type": "code",
   "execution_count": null,
   "metadata": {},
   "outputs": [
    {
     "data": {
      "text/plain": [
       "10"
      ]
     },
     "metadata": {},
     "output_type": "display_data"
    }
   ],
   "source": [
    "# range 길이정보\n",
    "Range = range(0, 10)\n",
    "len(Range)"
   ]
  },
  {
   "cell_type": "markdown",
   "metadata": {},
   "source": [
    "##### 바. 시퀀스형 주요 내장함수와 메소드"
   ]
  },
  {
   "cell_type": "code",
   "execution_count": null,
   "metadata": {},
   "outputs": [
    {
     "name": "stdout",
     "output_type": "stream",
     "text": [
      "18\n",
      "23\n",
      "26\n",
      "d\n",
      "9\n",
      "10\n",
      "11\n",
      "a\n",
      "1\n",
      "3\n",
      "2\n",
      "['a', 'b', 'c', 'd']\n",
      "[1, 3, 5, 9]\n",
      "[3, 4, 6, 10]\n",
      "[2, 5, 8, 11]\n"
     ]
    }
   ],
   "source": [
    "# 내장함수\n",
    "# 시퀀스형 생성 후 할당\n",
    "Str = 'dbac' # 문자열\n",
    "List = [5, 1, 3, 9] # 리스트\n",
    "Tuple = (6, 10, 3, 4) # 튜플\n",
    "Range = range(2,13,3) # range 2, 5, 8, 11\n",
    "\n",
    "# 내장함수 sum\n",
    "# 시퀀스객체(문자열 제외)의 요소의 합을 반환\n",
    "print(sum(List))\n",
    "print(sum(Tuple))\n",
    "print(sum(Range))\n",
    "\n",
    "# 내장함수 max\n",
    "# 시퀀스객체의 요소 중 가장 큰 요소 반환\n",
    "print(max(Str))\n",
    "print(max(List))\n",
    "print(max(Tuple))\n",
    "print(max(Range))\n",
    "\n",
    "# 내장함수 min\n",
    "# 시퀀스객체의 요소 중 가장 작은 요소 반환\n",
    "print(min(Str))\n",
    "print(min(List))\n",
    "print(min(Tuple))\n",
    "print(min(Range))\n",
    "\n",
    "# 내장함수 sorted\n",
    "# 시퀀스객체 정렬 후 리스트로 반환\n",
    "print(sorted(Str)) # 리스트로 반환됨\n",
    "print(sorted(List)) # 리스트로 반환됨\n",
    "print(sorted(Tuple)) # 리스트로 반환됨\n",
    "print(sorted(Range)) # 리스트로 반환됨"
   ]
  },
  {
   "cell_type": "code",
   "execution_count": null,
   "metadata": {},
   "outputs": [
    {
     "name": "stdout",
     "output_type": "stream",
     "text": [
      "<reversed object at 0x0000025464527A60>\n",
      "<list_reverseiterator object at 0x0000025464524520>\n",
      "<reversed object at 0x0000025464527A60>\n",
      "<range_iterator object at 0x0000025464CDD9B0>\n",
      "['c', 'a', 'b', 'd']\n",
      "[9, 3, 1, 5]\n",
      "[4, 3, 10, 6]\n",
      "[11, 8, 5, 2]\n"
     ]
    }
   ],
   "source": [
    "# 내장함수 reversed\n",
    "# 시퀀스객체의 요소 순서를 역순으로 반환\n",
    "# reversed는 단순히 순서만을 역순으로 반환하는 것임\n",
    "print(reversed(Str))\n",
    "print(reversed(List))\n",
    "print(reversed(Tuple))\n",
    "print(reversed(Range))\n",
    "\n",
    "# reversed할 경우 reverse 객체가 되므로 안의 요소를 확인할 수 없음\n",
    "# 리스트로 변환하면 결과를 확인할 수 있음\n",
    "print(list(reversed(Str)))\n",
    "print(list(reversed(List)))\n",
    "print(list(reversed(Tuple)))\n",
    "print(list(reversed(Range)))"
   ]
  },
  {
   "cell_type": "code",
   "execution_count": null,
   "metadata": {},
   "outputs": [
    {
     "name": "stdout",
     "output_type": "stream",
     "text": [
      "[5, 3, 9]\n"
     ]
    }
   ],
   "source": [
    "# del 함수는 리스트객체의 특정 요소를 삭제함\n",
    "del List[1]\n",
    "print(List)"
   ]
  },
  {
   "cell_type": "code",
   "execution_count": null,
   "metadata": {},
   "outputs": [
    {
     "ename": "TypeError",
     "evalue": "'str' object doesn't support item deletion",
     "output_type": "error",
     "traceback": [
      "\u001b[1;31m---------------------------------------------------------------------------\u001b[0m\n",
      "\u001b[1;31mTypeError\u001b[0m                                 Traceback (most recent call last)\n",
      "Input \u001b[1;32mIn [61]\u001b[0m, in \u001b[0;36m<cell line: 2>\u001b[1;34m()\u001b[0m\n",
      "\u001b[0;32m      1\u001b[0m \u001b[38;5;66;03m# 문자열과 튜플, range에서 del을 사용할 수 없음을 확인\u001b[39;00m\n",
      "\u001b[1;32m----> 2\u001b[0m \u001b[38;5;28;01mdel\u001b[39;00m Str[\u001b[38;5;241m1\u001b[39m]\n",
      "\n",
      "\u001b[1;31mTypeError\u001b[0m: 'str' object doesn't support item deletion"
     ]
    }
   ],
   "source": [
    "# 문자열과 튜플, range에서 del을 사용할 수 없음을 확인\n",
    "del Str[1]"
   ]
  },
  {
   "cell_type": "code",
   "execution_count": null,
   "metadata": {},
   "outputs": [
    {
     "ename": "TypeError",
     "evalue": "'tuple' object doesn't support item deletion",
     "output_type": "error",
     "traceback": [
      "\u001b[1;31m---------------------------------------------------------------------------\u001b[0m\n",
      "\u001b[1;31mTypeError\u001b[0m                                 Traceback (most recent call last)\n",
      "Input \u001b[1;32mIn [62]\u001b[0m, in \u001b[0;36m<cell line: 1>\u001b[1;34m()\u001b[0m\n",
      "\u001b[1;32m----> 1\u001b[0m \u001b[38;5;28;01mdel\u001b[39;00m Tuple[\u001b[38;5;241m1\u001b[39m]\n",
      "\n",
      "\u001b[1;31mTypeError\u001b[0m: 'tuple' object doesn't support item deletion"
     ]
    }
   ],
   "source": [
    "del Tuple[1]"
   ]
  },
  {
   "cell_type": "code",
   "execution_count": null,
   "metadata": {},
   "outputs": [
    {
     "ename": "TypeError",
     "evalue": "'range' object doesn't support item deletion",
     "output_type": "error",
     "traceback": [
      "\u001b[1;31m---------------------------------------------------------------------------\u001b[0m\n",
      "\u001b[1;31mTypeError\u001b[0m                                 Traceback (most recent call last)\n",
      "Input \u001b[1;32mIn [63]\u001b[0m, in \u001b[0;36m<cell line: 1>\u001b[1;34m()\u001b[0m\n",
      "\u001b[1;32m----> 1\u001b[0m \u001b[38;5;28;01mdel\u001b[39;00m Range[\u001b[38;5;241m1\u001b[39m]\n",
      "\n",
      "\u001b[1;31mTypeError\u001b[0m: 'range' object doesn't support item deletion"
     ]
    }
   ],
   "source": [
    "del Range[1]"
   ]
  },
  {
   "cell_type": "code",
   "execution_count": null,
   "metadata": {},
   "outputs": [],
   "source": [
    "# 메소드\n",
    "# 시퀀스형 생성 후 할당\n",
    "Str = 'dbbac' # 문자열\n",
    "List = [5, 1, 3, 3, 9] # 리스트\n",
    "Tuple = (6, 10, 3, 4, 10) # 튜플\n",
    "Range = range(2,13,3) # range 2, 5, 8, 11"
   ]
  },
  {
   "cell_type": "code",
   "execution_count": null,
   "metadata": {},
   "outputs": [
    {
     "data": {
      "text/plain": [
       "3"
      ]
     },
     "metadata": {},
     "output_type": "display_data"
    }
   ],
   "source": [
    "# 메소드 .index(요소)\n",
    "# 시퀀스객체 내 해당 요소의 위치 인덱스 번호\n",
    "Str.index('a')"
   ]
  },
  {
   "cell_type": "code",
   "execution_count": null,
   "metadata": {},
   "outputs": [
    {
     "data": {
      "text/plain": [
       "1"
      ]
     },
     "metadata": {},
     "output_type": "display_data"
    }
   ],
   "source": [
    "List.index(1)"
   ]
  },
  {
   "cell_type": "code",
   "execution_count": null,
   "metadata": {},
   "outputs": [
    {
     "data": {
      "text/plain": [
       "2"
      ]
     },
     "metadata": {},
     "output_type": "display_data"
    }
   ],
   "source": [
    "Tuple.index(3)"
   ]
  },
  {
   "cell_type": "code",
   "execution_count": null,
   "metadata": {},
   "outputs": [
    {
     "data": {
      "text/plain": [
       "3"
      ]
     },
     "metadata": {},
     "output_type": "display_data"
    }
   ],
   "source": [
    "Range.index(11)"
   ]
  },
  {
   "cell_type": "code",
   "execution_count": null,
   "metadata": {},
   "outputs": [],
   "source": [
    "# 메소드 .count(요소)\n",
    "# 시퀀스객체 내 해당 요소의 빈도"
   ]
  },
  {
   "cell_type": "code",
   "execution_count": null,
   "metadata": {},
   "outputs": [
    {
     "data": {
      "text/plain": [
       "2"
      ]
     },
     "metadata": {},
     "output_type": "display_data"
    }
   ],
   "source": [
    "Str.count('b')"
   ]
  },
  {
   "cell_type": "code",
   "execution_count": null,
   "metadata": {},
   "outputs": [
    {
     "data": {
      "text/plain": [
       "2"
      ]
     },
     "metadata": {},
     "output_type": "display_data"
    }
   ],
   "source": [
    "List.count(3)"
   ]
  },
  {
   "cell_type": "code",
   "execution_count": null,
   "metadata": {},
   "outputs": [
    {
     "data": {
      "text/plain": [
       "2"
      ]
     },
     "metadata": {},
     "output_type": "display_data"
    }
   ],
   "source": [
    "Tuple.count(10)"
   ]
  },
  {
   "cell_type": "code",
   "execution_count": null,
   "metadata": {},
   "outputs": [
    {
     "data": {
      "text/plain": [
       "1"
      ]
     },
     "metadata": {},
     "output_type": "display_data"
    }
   ],
   "source": [
    "Range.count(11)"
   ]
  },
  {
   "cell_type": "code",
   "execution_count": null,
   "metadata": {},
   "outputs": [
    {
     "name": "stdout",
     "output_type": "stream",
     "text": [
      "[5, -1, 6, 7, 1, 3, 2]\n",
      "[5, -1, 6, 8, 7, 1, 3, 2]\n",
      "[5, -1, 6, 7, 1, 3, 2]\n",
      "[5, -1, 6, 7, 1, 3]\n",
      "2\n",
      "[-1, 1, 3, 5, 6, 7]\n",
      "[7, 6, 5, 3, 1, -1]\n",
      "[3, 1, 7, 6, -1, 5]\n"
     ]
    }
   ],
   "source": [
    "# 리스트 생성 후 할당\n",
    "List = [5, -1, 6, 7, 1, 3]\n",
    "\n",
    "# 메소드 .append(요소)\n",
    "# 리스트객체의 맨 뒤에 요소를 추가\n",
    "List.append(2) # 맨 뒤에 요소 2 추가\n",
    "print(List)\n",
    "\n",
    "# .insert(인덱스, 요소)\n",
    "# 리스트객체의 특정 인덱스에 요소 추가\n",
    "List.insert(3, 8)  # 3번 인덱스에 8 추가\n",
    "print(List)\n",
    "\n",
    "# .remove(요소)\n",
    "# 리스트객체에서 처음으로 나오는 요소를 제거\n",
    "List.remove(8) # 처음으로 나오는 8을 제거\n",
    "print(List)\n",
    "\n",
    "# .pop()\n",
    "# 리스트객체의 마지막 요소 삭제 후 마지막 요소 반환\n",
    "List_2 = List.pop()\n",
    "print(List)\n",
    "print(List_2)\n",
    "\n",
    "# .sort(reverse=False)\n",
    "# 리스트객체의 요소를 오름차순으로 정렬\n",
    "List.sort()\n",
    "print(List)\n",
    "\n",
    "# reverse=True는 내림차순\n",
    "List.sort(reverse=True)\n",
    "print(List)\n",
    "\n",
    "# .reverse()\n",
    "# 리스트객체의 요소 순서를 역순으로 대치\n",
    "List = [5, -1, 6, 7, 1, 3] # 리스트 생성 후 할당\n",
    "List.reverse()\n",
    "print(List)"
   ]
  },
  {
   "cell_type": "code",
   "execution_count": null,
   "metadata": {},
   "outputs": [
    {
     "name": "stdout",
     "output_type": "stream",
     "text": [
      "[5, 9, 6, 7, 1, 3]\n",
      "[5, -1, 6, 7, 1, 3]\n",
      "[5, 9, 6, 7, 1, 3]\n",
      "[5, 9, 6, 7, 1, 3]\n",
      "[5, -1, 6, 7, 1, 3]\n",
      "[5, -1, 6, 7, 1, 3]\n"
     ]
    }
   ],
   "source": [
    "# 리스트 생성 후 할당\n",
    "List = [5, 9, 6, 7, 1, 3]\n",
    "\n",
    "# 메소드 .copy()\n",
    "List_1 = List.copy()\n",
    "print(List_1)\n",
    "\n",
    "List_1[1] = -1 # 인덱싱을 통한 요소 교체\n",
    "print(List_1) # 1번 인데스가 –1로 교체됨\n",
    "print(List) # 원래 리스트에 변화 없음\n",
    "\n",
    "# .copy() 안 할 경우\n",
    "# 할당연산자 사용\n",
    "List_2 = List\n",
    "print(List_2)\n",
    "\n",
    "List_2[1] = -1 # 인덱싱을 통한 요소 교체\n",
    "print(List_2) # 1번 인덱스가 –1로 교체됨\n",
    "print(List) # 원래 리스트도 변화함"
   ]
  },
  {
   "cell_type": "markdown",
   "metadata": {},
   "source": [
    "#### 3. 딕셔너리(Dictionary)"
   ]
  },
  {
   "cell_type": "code",
   "execution_count": null,
   "metadata": {},
   "outputs": [
    {
     "name": "stdout",
     "output_type": "stream",
     "text": [
      "{'A': 1, 'B': 2, 'C': 3}\n",
      "{1: 'A', 2: 'B', 3: 'C'}\n",
      "{'A': 1, 'B': 2, 'C': 3}\n"
     ]
    }
   ],
   "source": [
    "# 딕셔너리\n",
    "dic_1 = {'A':1, 'B':2, 'C':3} # {key : value}로 딕셔너리 생성\n",
    "print(dic_1)\n",
    "\n",
    "dic_2 = {1:'A', 2:'B', 3:'C'} # {key : value}로 딕셔너리 생성\n",
    "print(dic_2)\n",
    "\n",
    "dic_3 = dict(A = 1, B = 2, C = 3) # dict() 함수를 통한 방법 (key = value)\n",
    "print(dic_3)"
   ]
  },
  {
   "cell_type": "code",
   "execution_count": null,
   "metadata": {},
   "outputs": [
    {
     "name": "stdout",
     "output_type": "stream",
     "text": [
      "{'A': 1, 'B': 2, 'C': 3, 'D': 4}\n",
      "{1: 'A', 2: 'B', 3: 'C', 4: 'D'}\n"
     ]
    }
   ],
   "source": [
    "# 딕셔너리에 키와 값 추가\n",
    "dic_1['D'] = 4 # key D와 value 4를 추가\n",
    "print(dic_1)\n",
    "\n",
    "dic_2[4] = 'D' # key 4와 value D를 추가\n",
    "print(dic_2)"
   ]
  },
  {
   "cell_type": "code",
   "execution_count": null,
   "metadata": {},
   "outputs": [
    {
     "name": "stdout",
     "output_type": "stream",
     "text": [
      "{'A': 7, 'B': 2, 'C': 3, 'D': 4}\n"
     ]
    }
   ],
   "source": [
    "# 동일한 키와 다른 값을 추가할 경우 값만 교체됨\n",
    "dic_1['A'] = 7\n",
    "print(dic_1)"
   ]
  },
  {
   "cell_type": "code",
   "execution_count": null,
   "metadata": {},
   "outputs": [
    {
     "name": "stdout",
     "output_type": "stream",
     "text": [
      "1\n",
      "3\n"
     ]
    }
   ],
   "source": [
    "# 딕셔너리에서의 조회\n",
    "dic = {'A':1, 'B':2, 'C':3} # 딕셔너리 생성\n",
    "\n",
    "# key를 통한 값 조회\n",
    "print(dic['A'])\n",
    "print(dic['C'])"
   ]
  },
  {
   "cell_type": "code",
   "execution_count": null,
   "metadata": {},
   "outputs": [
    {
     "name": "stdout",
     "output_type": "stream",
     "text": [
      "{'B': 2, 'C': 3}\n"
     ]
    }
   ],
   "source": [
    "# 딕셔너리 타입의 주요내장함수\n",
    "# del\n",
    "# 딕셔너리객체에서 특정 키와 쌍인 값을 삭제\n",
    "del dic['A']\n",
    "print(dic)"
   ]
  },
  {
   "cell_type": "code",
   "execution_count": null,
   "metadata": {},
   "outputs": [
    {
     "data": {
      "text/plain": [
       "dict_keys(['B', 'C'])"
      ]
     },
     "metadata": {},
     "output_type": "display_data"
    }
   ],
   "source": [
    "# .keys()\n",
    "# 딕셔너리객체의 키로 구성된 리스트를 반환\n",
    "dic.keys()"
   ]
  },
  {
   "cell_type": "code",
   "execution_count": null,
   "metadata": {},
   "outputs": [
    {
     "data": {
      "text/plain": [
       "dict_values([2, 3])"
      ]
     },
     "metadata": {},
     "output_type": "display_data"
    }
   ],
   "source": [
    "# .values()\n",
    "# 딕셔너리객체의 키로 구성된 리스트를 반환\n",
    "dic.values()"
   ]
  },
  {
   "cell_type": "code",
   "execution_count": null,
   "metadata": {},
   "outputs": [
    {
     "data": {
      "text/plain": [
       "dict_items([('B', 2), ('C', 3)])"
      ]
     },
     "metadata": {},
     "output_type": "display_data"
    }
   ],
   "source": [
    "# .items()\n",
    "# 딕셔너리객체의 키, 값 쌍으로 구성된 리스트를 반환\n",
    "dic.items()"
   ]
  },
  {
   "cell_type": "code",
   "execution_count": null,
   "metadata": {},
   "outputs": [
    {
     "name": "stdout",
     "output_type": "stream",
     "text": [
      "{'B': 2, 'C': 3, 'D': 7}\n"
     ]
    }
   ],
   "source": [
    "# .update({키:값})\n",
    "# 딕셔너리객체에 키, 값 쌍으로 수정하거나 추가함\n",
    "dic.update({'D':7})\n",
    "print(dic)"
   ]
  },
  {
   "cell_type": "markdown",
   "metadata": {},
   "source": [
    "#### 4. 집합(Set)"
   ]
  },
  {
   "cell_type": "code",
   "execution_count": null,
   "metadata": {},
   "outputs": [],
   "source": [
    "# 집합\n",
    "set_1 = {1, 2, 3, 4} # 중괄호로 집합 생성\n",
    "set_2 = {'E', 'd', 'u'} # 중괄호로 집합 생성"
   ]
  },
  {
   "cell_type": "code",
   "execution_count": null,
   "metadata": {},
   "outputs": [],
   "source": [
    "# 빈 집합은 중괄호만으로 생성 불가, 중괄호 사용 시 빈 딕셔너리를 생성함\n",
    "# set()로만 빈 집합의 생성이 가능함\n",
    "dic_1 = {} # 중괄호는 빈 딕셔너리 생성\n",
    "set_1 = set() # set() 함수로 빈 집합(즉, 공집합) 생성"
   ]
  },
  {
   "cell_type": "code",
   "execution_count": null,
   "metadata": {},
   "outputs": [],
   "source": [
    "# 집합 타입의 주요 메소드\n",
    "set_3 = {2, 4, 6, 8, 10}\n",
    "set_4 = {4, 8}"
   ]
  },
  {
   "cell_type": "code",
   "execution_count": null,
   "metadata": {},
   "outputs": [
    {
     "name": "stdout",
     "output_type": "stream",
     "text": [
      "{2, 4, 6, 8, 10, 12}\n"
     ]
    }
   ],
   "source": [
    "# .add(원소)\n",
    "# 집합객체에서 하나의 원소를 추가(순서를 보장하지 않으므로 결과가 다를 수 있음)\n",
    "set_3.add(12)\n",
    "print(set_3)"
   ]
  },
  {
   "cell_type": "code",
   "execution_count": null,
   "metadata": {},
   "outputs": [
    {
     "name": "stdout",
     "output_type": "stream",
     "text": [
      "{8, 16, 4, 12}\n"
     ]
    }
   ],
   "source": [
    "# .update(원소)\n",
    "# 집합객체에서 여러 개의 원소를 추가(순서를 보장하지 않으므로 결과가 다를 수 있음)\n",
    "set_4.update({12, 16})\n",
    "print(set_4)"
   ]
  },
  {
   "cell_type": "code",
   "execution_count": null,
   "metadata": {},
   "outputs": [
    {
     "data": {
      "text/plain": [
       "{2, 4, 6, 8, 10, 12, 16}"
      ]
     },
     "metadata": {},
     "output_type": "display_data"
    }
   ],
   "source": [
    "# .union(집합2)\n",
    "# 집합객체1과 집합객체2의 합집합\n",
    "set_3.union(set_4)"
   ]
  },
  {
   "cell_type": "code",
   "execution_count": null,
   "metadata": {},
   "outputs": [
    {
     "data": {
      "text/plain": [
       "{4, 8, 12}"
      ]
     },
     "metadata": {},
     "output_type": "display_data"
    }
   ],
   "source": [
    "#.intersection(집합2)\n",
    "# 집합객체1과 집합객체2의 교집합\n",
    "set_3.intersection(set_4)"
   ]
  },
  {
   "cell_type": "code",
   "execution_count": null,
   "metadata": {},
   "outputs": [
    {
     "data": {
      "text/plain": [
       "{2, 6, 10}"
      ]
     },
     "metadata": {},
     "output_type": "display_data"
    }
   ],
   "source": [
    "# .difference(집합2)\n",
    "# 집합객체1과 집합객체2의 차집합\n",
    "set_3.difference(set_4)"
   ]
  },
  {
   "cell_type": "markdown",
   "metadata": {},
   "source": [
    "#### 5. 부울형(Boolean)"
   ]
  },
  {
   "cell_type": "code",
   "execution_count": null,
   "metadata": {},
   "outputs": [],
   "source": [
    "# 부울형 할당\n",
    "a = True\n",
    "b = False"
   ]
  },
  {
   "cell_type": "code",
   "execution_count": null,
   "metadata": {},
   "outputs": [
    {
     "name": "stdout",
     "output_type": "stream",
     "text": [
      "True False False\n"
     ]
    }
   ],
   "source": [
    "# 숫자형 -> 부울형 변환\n",
    "print(bool(1), bool(0), bool())"
   ]
  },
  {
   "cell_type": "code",
   "execution_count": null,
   "metadata": {},
   "outputs": [
    {
     "name": "stdout",
     "output_type": "stream",
     "text": [
      "True False False\n"
     ]
    }
   ],
   "source": [
    "# 문자열 -> 부울형 변환\n",
    "print(bool('A'), bool(''), bool())"
   ]
  },
  {
   "cell_type": "code",
   "execution_count": null,
   "metadata": {},
   "outputs": [
    {
     "name": "stdout",
     "output_type": "stream",
     "text": [
      "True False\n"
     ]
    }
   ],
   "source": [
    "# 리스트 -> 부울형 변환\n",
    "print(bool(['a', 'b']), bool([]))"
   ]
  },
  {
   "cell_type": "code",
   "execution_count": null,
   "metadata": {},
   "outputs": [
    {
     "name": "stdout",
     "output_type": "stream",
     "text": [
      "True False\n"
     ]
    }
   ],
   "source": [
    "# 튜플 -> 부울형 변환\n",
    "print(bool(('a', 'b')), bool(()))"
   ]
  },
  {
   "cell_type": "code",
   "execution_count": null,
   "metadata": {},
   "outputs": [
    {
     "name": "stdout",
     "output_type": "stream",
     "text": [
      "True False\n"
     ]
    }
   ],
   "source": [
    "# 딕셔너리 -> 부울형 변환\n",
    "print(bool({'a':1, 'b':2, 'c':3}), bool({}))"
   ]
  },
  {
   "cell_type": "code",
   "execution_count": null,
   "metadata": {},
   "outputs": [
    {
     "name": "stdout",
     "output_type": "stream",
     "text": [
      "True False\n"
     ]
    }
   ],
   "source": [
    "# 집합 -> 부울형 변환\n",
    "print( bool({'a', 'b'}), bool(set()) )"
   ]
  },
  {
   "cell_type": "markdown",
   "metadata": {},
   "source": [
    "#### 6. 데이터 타입 확인"
   ]
  },
  {
   "cell_type": "code",
   "execution_count": null,
   "metadata": {},
   "outputs": [
    {
     "name": "stdout",
     "output_type": "stream",
     "text": [
      "<class 'str'>\n",
      "<class 'list'>\n",
      "<class 'tuple'>\n",
      "<class 'dict'>\n",
      "<class 'set'>\n",
      "<class 'bool'>\n"
     ]
    }
   ],
   "source": [
    "# 문자열\n",
    "Str = 'abcd' \n",
    "print(type(Str))\n",
    "\n",
    "# 리스트\n",
    "List = [1, 2, 3, 4] \n",
    "print(type(List))\n",
    "\n",
    "# 튜플\n",
    "Tuple = (1, 2, 3, 4) \n",
    "print(type(Tuple))\n",
    "\n",
    "# 딕셔너리\n",
    "Dic = {'a':1, 'b':2, 'c':3} \n",
    "print(type(Dic))\n",
    "\n",
    "# 집합\n",
    "Set = {'a', 'b', 'c', 'd'} \n",
    "print(type(Set))\n",
    "\n",
    "# 부울\n",
    "Bool = True \n",
    "print(type(Bool))"
   ]
  },
  {
   "cell_type": "markdown",
   "metadata": {},
   "source": []
  },
  {
   "cell_type": "markdown",
   "metadata": {},
   "source": [
    "### 4절. 사용자 정의 함수"
   ]
  },
  {
   "cell_type": "markdown",
   "metadata": {},
   "source": [
    "#### 1. 함수 정의 문법"
   ]
  },
  {
   "cell_type": "markdown",
   "metadata": {},
   "source": [
    "코드 없음"
   ]
  },
  {
   "cell_type": "markdown",
   "metadata": {},
   "source": [
    "#### 2. 함수 정의 예시"
   ]
  },
  {
   "cell_type": "code",
   "execution_count": null,
   "metadata": {},
   "outputs": [
    {
     "data": {
      "text/plain": [
       "4"
      ]
     },
     "metadata": {},
     "output_type": "display_data"
    }
   ],
   "source": [
    "# 하나의 숫자를 입력받아 제곱값을 계산하는 함수를 생성해보자.\n",
    "# 함수 생성\n",
    "def fun1(num) :\n",
    "    return(num**2)\n",
    "\n",
    "# fun1함수에 숫자 2를 입력\n",
    "fun1(2)"
   ]
  },
  {
   "cell_type": "code",
   "execution_count": null,
   "metadata": {},
   "outputs": [
    {
     "name": "stdout",
     "output_type": "stream",
     "text": [
      "합계 : 30\n"
     ]
    }
   ],
   "source": [
    "# 여러 숫자를 입력받아 합을 출력하는 함수를 생성해보자.\n",
    "# 함수 생성\n",
    "def fun2(*args) :\n",
    "    x = sum(*args)\n",
    "    print(\"합계 :\", x)\n",
    "    \n",
    "# fun2 함수에 2,4,6,8,10을 입력\n",
    "fun2([2,4,6,8,10])"
   ]
  },
  {
   "cell_type": "code",
   "execution_count": null,
   "metadata": {},
   "outputs": [
    {
     "name": "stdout",
     "output_type": "stream",
     "text": [
      "3\n",
      "5\n",
      "3 + 5 = 8\n"
     ]
    }
   ],
   "source": [
    "# 중첩함수 구문을 통해 두 개의 숫자를 입력받아 두 숫자와 그 합을 출력하는 함수를 생성해보자.\n",
    "# 함수 생성\n",
    "def fun3(x,y) :\n",
    "    print(x)\n",
    "    print(y)\n",
    "    def fun4(*fun3) : # fun3 함수 내에 fun4 함수 정의 인자는 fun3의 인자 그대로\n",
    "        Sum = x + y\n",
    "        print(x, \"+\", y, \"=\", Sum)\n",
    "    fun4(x,y)\n",
    "    \n",
    "fun3(3,5)"
   ]
  },
  {
   "cell_type": "markdown",
   "metadata": {},
   "source": []
  },
  {
   "cell_type": "markdown",
   "metadata": {},
   "source": [
    "### 5절. 제어문"
   ]
  },
  {
   "cell_type": "markdown",
   "metadata": {},
   "source": [
    "#### 1. 조건문"
   ]
  },
  {
   "cell_type": "code",
   "execution_count": null,
   "metadata": {},
   "outputs": [
    {
     "name": "stdout",
     "output_type": "stream",
     "text": [
      "9 는 홀수입니다.\n"
     ]
    }
   ],
   "source": [
    "# 정수를 입력받아 해당 숫자가 짝수인지 홀수인지 판단하고, 만약 입력받은 숫자가 정수가 아닐 경우 “정수를 입력해주세요.”라는 문구를 출력하는 if문을 작성해보자\n",
    "x = 9\n",
    "if x % 2 == 0 : # x를  2로 나눈 나머지가 0이면 참\n",
    "    print(x, \"는 짝수입니다.\") # 조건(x % 2 == 0)이 참일 때 수행할 코드\n",
    "elif x % 2 == 1 : # x를  2로 나눈 나머지가 1이면 참\n",
    "    print(x, \"는 홀수입니다.\") # 조건(x % 2 == 1)이 참일 때 수행할 코드\n",
    "else :\n",
    "    print(\"정수를 입력해주세요.\") # 모든 조건 거짓일 때 수행할 코드"
   ]
  },
  {
   "cell_type": "markdown",
   "metadata": {},
   "source": [
    "#### 2. 반복문"
   ]
  },
  {
   "cell_type": "markdown",
   "metadata": {},
   "source": [
    "##### 1. for문"
   ]
  },
  {
   "cell_type": "code",
   "execution_count": null,
   "metadata": {},
   "outputs": [
    {
     "name": "stdout",
     "output_type": "stream",
     "text": [
      "The year is 2015\n",
      "The year is 2016\n",
      "The year is 2017\n",
      "The year is 2018\n"
     ]
    }
   ],
   "source": [
    "# 반복문을 사용하지 않는 경우 : print문 4번 수행\n",
    "print(\"The year is\", 2015)\n",
    "print(\"The year is\", 2016)\n",
    "print(\"The year is\", 2017)\n",
    "print(\"The year is\", 2018)"
   ]
  },
  {
   "cell_type": "code",
   "execution_count": null,
   "metadata": {},
   "outputs": [
    {
     "name": "stdout",
     "output_type": "stream",
     "text": [
      "The year is 2015\n",
      "The year is 2016\n",
      "The year is 2017\n",
      "The year is 2018\n"
     ]
    }
   ],
   "source": [
    "# 반복문을 사용하는 경우 year에 2015~2018이 모두 대입될 때까지 반복\n",
    "for year in range(2015,2019) : #range(2015, 2019)는 2015 ~ 2018\n",
    "    print(\"The year is\", year)"
   ]
  },
  {
   "cell_type": "code",
   "execution_count": null,
   "metadata": {},
   "outputs": [
    {
     "name": "stdout",
     "output_type": "stream",
     "text": [
      "The year is 2015\n",
      "The year is 2016\n",
      "The year is 2017\n",
      "The year is 2018\n"
     ]
    }
   ],
   "source": [
    "# year가 2018 이하인 동안 코드 수행\n",
    "year = 2015 # 초기값\n",
    "\n",
    "while year <= 2018 :\n",
    "    print(\"The year is\", year)\n",
    "    year = year + 1  # 증가 코드"
   ]
  },
  {
   "cell_type": "markdown",
   "metadata": {},
   "source": [
    "-------------"
   ]
  },
  {
   "cell_type": "markdown",
   "metadata": {},
   "source": [
    "## 2장. 패키지와 모듈"
   ]
  },
  {
   "cell_type": "markdown",
   "metadata": {},
   "source": [
    "### 1절. 패키지와 모듈"
   ]
  },
  {
   "cell_type": "markdown",
   "metadata": {},
   "source": [
    "코드 없음"
   ]
  },
  {
   "cell_type": "markdown",
   "metadata": {},
   "source": [
    "### 2절. 패키지 소개"
   ]
  },
  {
   "cell_type": "markdown",
   "metadata": {},
   "source": [
    "코드 없음"
   ]
  },
  {
   "cell_type": "markdown",
   "metadata": {},
   "source": [
    "### 3절. 사용하기"
   ]
  },
  {
   "cell_type": "code",
   "execution_count": null,
   "metadata": {},
   "outputs": [
    {
     "name": "stdout",
     "output_type": "stream",
     "text": [
      "Collecting numpy==1.21.1\n",
      "  Downloading numpy-1.21.1-cp38-cp38-win_amd64.whl (14.0 MB)\n",
      "Installing collected packages: numpy\n",
      "  Attempting uninstall: numpy\n",
      "    Found existing installation: numpy 1.20.1\n",
      "    Uninstalling numpy-1.20.1:\n",
      "      Successfully uninstalled numpy-1.20.1\n",
      "Successfully installed numpy-1.21.1\n",
      "Collecting pandas==1.4.2\n",
      "  Downloading pandas-1.4.2-cp38-cp38-win_amd64.whl (10.6 MB)\n",
      "Requirement already satisfied: numpy>=1.18.5 in c:\\users\\user\\anaconda3\\lib\\site-packages (from pandas==1.4.2) (1.21.1)\n",
      "Requirement already satisfied: python-dateutil>=2.8.1 in c:\\users\\user\\anaconda3\\lib\\site-packages (from pandas==1.4.2) (2.8.1)\n",
      "Requirement already satisfied: pytz>=2020.1 in c:\\users\\user\\anaconda3\\lib\\site-packages (from pandas==1.4.2) (2021.1)\n",
      "Requirement already satisfied: six>=1.5 in c:\\users\\user\\anaconda3\\lib\\site-packages (from python-dateutil>=2.8.1->pandas==1.4.2) (1.15.0)\n",
      "Installing collected packages: pandas\n",
      "  Attempting uninstall: pandas\n",
      "    Found existing installation: pandas 1.4.4\n",
      "    Uninstalling pandas-1.4.4:\n",
      "      Successfully uninstalled pandas-1.4.4\n",
      "Successfully installed pandas-1.4.2\n",
      "Collecting scipy==1.7.0\n",
      "  Downloading scipy-1.7.0-cp38-cp38-win_amd64.whl (33.7 MB)\n",
      "Requirement already satisfied: numpy<1.23.0,>=1.16.5 in c:\\users\\user\\anaconda3\\lib\\site-packages (from scipy==1.7.0) (1.21.1)\n",
      "Installing collected packages: scipy\n",
      "  Attempting uninstall: scipy\n",
      "    Found existing installation: scipy 1.6.2\n",
      "    Uninstalling scipy-1.6.2:\n",
      "      Successfully uninstalled scipy-1.6.2\n",
      "Successfully installed scipy-1.7.0\n",
      "Collecting scikit-learn==0.24.2\n",
      "  Downloading scikit_learn-0.24.2-cp38-cp38-win_amd64.whl (6.9 MB)\n",
      "Requirement already satisfied: scipy>=0.19.1 in c:\\users\\user\\anaconda3\\lib\\site-packages (from scikit-learn==0.24.2) (1.7.0)\n",
      "Requirement already satisfied: numpy>=1.13.3 in c:\\users\\user\\anaconda3\\lib\\site-packages (from scikit-learn==0.24.2) (1.21.1)\n",
      "Requirement already satisfied: threadpoolctl>=2.0.0 in c:\\users\\user\\anaconda3\\lib\\site-packages (from scikit-learn==0.24.2) (2.1.0)\n",
      "Requirement already satisfied: joblib>=0.11 in c:\\users\\user\\anaconda3\\lib\\site-packages (from scikit-learn==0.24.2) (1.0.1)\n",
      "Installing collected packages: scikit-learn\n",
      "  Attempting uninstall: scikit-learn\n",
      "    Found existing installation: scikit-learn 0.24.1\n",
      "    Uninstalling scikit-learn-0.24.1:\n",
      "      Successfully uninstalled scikit-learn-0.24.1\n",
      "Successfully installed scikit-learn-0.24.2\n"
     ]
    }
   ],
   "source": [
    "# 한 번만 실행\n",
    "\n",
    "!pip install numpy==1.21.1\n",
    "!pip install pandas==1.4.2\n",
    "!pip install scipy==1.7.0\n",
    "!pip install scikit-learn==0.24.2"
   ]
  },
  {
   "cell_type": "code",
   "execution_count": null,
   "metadata": {},
   "outputs": [],
   "source": [
    "# 넘파이 불러오기\n",
    "import numpy as np # 넘파이 패키지를 np라는 별명으로 불러옴\n",
    "\n",
    "# 판다스 불러오기\n",
    "import pandas as pd # 판다스 패키지를 pd라는 별명으로 불러옴\n",
    "\n",
    "# 사이파이 불러오기\n",
    "import scipy as sp # 사이파이 패키지를 sp라는 별명으로 불러옴\n",
    "\n",
    "# 사이킷런 불러오기\n",
    "import sklearn"
   ]
  },
  {
   "cell_type": "code",
   "execution_count": null,
   "metadata": {},
   "outputs": [
    {
     "name": "stdout",
     "output_type": "stream",
     "text": [
      "Name: numpy\n",
      "Version: 1.21.1\n",
      "Summary: NumPy is the fundamental package for array computing with Python.\n",
      "Home-page: https://www.numpy.org\n",
      "Author: Travis E. Oliphant et al.\n",
      "Author-email: None\n",
      "License: BSD\n",
      "Location: c:\\users\\user\\anaconda3\\lib\\site-packages\n",
      "Requires: \n",
      "Required-by: wordcloud, tifffile, tables, statsmodels, seaborn, scipy, scikit-learn, scikit-image, PyWavelets, pyerfa, pyclustering, patsy, pandas, numexpr, numba, mkl-random, mkl-fft, matplotlib, konlpy, imageio, imagecodecs, h5py, Bottleneck, bokeh, bkcharts, astropy\n"
     ]
    }
   ],
   "source": [
    "# 넘파이 정보 확인하기\n",
    "! pip show numpy"
   ]
  },
  {
   "cell_type": "code",
   "execution_count": null,
   "metadata": {},
   "outputs": [
    {
     "name": "stdout",
     "output_type": "stream",
     "text": [
      "Name: pandas\n",
      "Version: 1.4.2\n",
      "Summary: Powerful data structures for data analysis, time series, and statistics\n",
      "Home-page: https://pandas.pydata.org\n",
      "Author: The Pandas Development Team\n",
      "Author-email: pandas-dev@python.org\n",
      "License: BSD-3-Clause\n",
      "Location: c:\\users\\user\\anaconda3\\lib\\site-packages\n",
      "Requires: pytz, python-dateutil, numpy\n",
      "Required-by: statsmodels, seaborn\n"
     ]
    }
   ],
   "source": [
    "# 판다스 정보 확인하기\n",
    "! pip show pandas"
   ]
  },
  {
   "cell_type": "code",
   "execution_count": null,
   "metadata": {},
   "outputs": [
    {
     "name": "stdout",
     "output_type": "stream",
     "text": [
      "Name: scipy\n",
      "Version: 1.7.0\n",
      "Summary: SciPy: Scientific Library for Python\n",
      "Home-page: https://www.scipy.org\n",
      "Author: None\n",
      "Author-email: None\n",
      "License: BSD\n",
      "Location: c:\\users\\user\\anaconda3\\lib\\site-packages\n",
      "Requires: numpy\n",
      "Required-by: statsmodels, seaborn, scikit-learn, scikit-image, pyclustering\n"
     ]
    }
   ],
   "source": [
    "# 사이파이 정보 확인하기\n",
    "! pip show scipy"
   ]
  },
  {
   "cell_type": "code",
   "execution_count": null,
   "metadata": {},
   "outputs": [
    {
     "name": "stdout",
     "output_type": "stream",
     "text": [
      "Name: scikit-learn\n",
      "Version: 0.24.2\n",
      "Summary: A set of python modules for machine learning and data mining\n",
      "Home-page: http://scikit-learn.org\n",
      "Author: None\n",
      "Author-email: None\n",
      "License: new BSD\n",
      "Location: c:\\users\\user\\anaconda3\\lib\\site-packages\n",
      "Requires: numpy, threadpoolctl, joblib, scipy\n",
      "Required-by: \n"
     ]
    }
   ],
   "source": [
    "# 사이킷런 정보 확인하기\n",
    "! pip show scikit-learn"
   ]
  },
  {
   "cell_type": "markdown",
   "metadata": {},
   "source": [
    "# (끝)"
   ]
  }
 ],
 "metadata": {
  "language_info": {
   "name": "python"
  },
  "orig_nbformat": 4
 },
 "nbformat": 4,
 "nbformat_minor": 2
}
